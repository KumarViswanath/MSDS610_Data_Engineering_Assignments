{
 "cells": [
  {
   "cell_type": "markdown",
   "id": "3caa6f30",
   "metadata": {},
   "source": [
    "<img align=\"right\" style=\"padding-left:50px;\" src=\"figures_wk4/data_cleaning.png\" width=350><br>\n",
    "### User Bias in Data Cleaning\n",
    "For your homework assignment this week, we will explore how our treatment of our data can impact the quality of our results.\n",
    "\n",
    "**Dataset:**\n",
    "The data is a Salary Survey from AskAManager.org. It’s US-centric-ish but does allow for a range of country inputs.\n",
    "\n",
    "A list of the corresponding survey questions can be found [here](https://www.askamanager.org/2021/04/how-much-money-do-you-make-4.html).\n",
    "\n",
    " "
   ]
  },
  {
   "cell_type": "code",
   "execution_count": 1,
   "id": "50e411bc",
   "metadata": {},
   "outputs": [],
   "source": [
    "import pandas as pd\n",
    "import matplotlib.pyplot as plt\n",
    "import seaborn as sns\n",
    "import numpy as np"
   ]
  },
  {
   "cell_type": "code",
   "execution_count": 31,
   "id": "960098db-5807-4f89-85b4-be34e2a80484",
   "metadata": {},
   "outputs": [],
   "source": [
    "df= pd.read_csv('survey_data.csv')"
   ]
  },
  {
   "cell_type": "code",
   "execution_count": 16,
   "id": "7bb64b9a-0236-4153-9dc1-560c873d2a92",
   "metadata": {},
   "outputs": [
    {
     "name": "stdout",
     "output_type": "stream",
     "text": [
      "<class 'pandas.core.frame.DataFrame'>\n",
      "RangeIndex: 28108 entries, 0 to 28107\n",
      "Data columns (total 18 columns):\n",
      " #   Column     Non-Null Count  Dtype  \n",
      "---  ------     --------------  -----  \n",
      " 0   timestamp  28108 non-null  object \n",
      " 1   q1         28108 non-null  object \n",
      " 2   q2         28033 non-null  object \n",
      " 3   q3         28107 non-null  object \n",
      " 4   q4         7273 non-null   object \n",
      " 5   q5         28108 non-null  object \n",
      " 6   q6         20793 non-null  float64\n",
      " 7   q7         28108 non-null  object \n",
      " 8   q8         211 non-null    object \n",
      " 9   q9         3047 non-null   object \n",
      " 10  q10        28108 non-null  object \n",
      " 11  q11        23074 non-null  object \n",
      " 12  q12        28026 non-null  object \n",
      " 13  q13        28108 non-null  object \n",
      " 14  q14        28108 non-null  object \n",
      " 15  q15        27885 non-null  object \n",
      " 16  q16        27937 non-null  object \n",
      " 17  q17        27931 non-null  object \n",
      "dtypes: float64(1), object(17)\n",
      "memory usage: 3.9+ MB\n"
     ]
    }
   ],
   "source": [
    "df.info()"
   ]
  },
  {
   "cell_type": "code",
   "execution_count": 18,
   "id": "59804474-eb37-41f7-b958-1c604a24586d",
   "metadata": {},
   "outputs": [
    {
     "data": {
      "text/html": [
       "<div>\n",
       "<style scoped>\n",
       "    .dataframe tbody tr th:only-of-type {\n",
       "        vertical-align: middle;\n",
       "    }\n",
       "\n",
       "    .dataframe tbody tr th {\n",
       "        vertical-align: top;\n",
       "    }\n",
       "\n",
       "    .dataframe thead th {\n",
       "        text-align: right;\n",
       "    }\n",
       "</style>\n",
       "<table border=\"1\" class=\"dataframe\">\n",
       "  <thead>\n",
       "    <tr style=\"text-align: right;\">\n",
       "      <th></th>\n",
       "      <th>timestamp</th>\n",
       "      <th>q1</th>\n",
       "      <th>q2</th>\n",
       "      <th>q3</th>\n",
       "      <th>q4</th>\n",
       "      <th>q5</th>\n",
       "      <th>q6</th>\n",
       "      <th>q7</th>\n",
       "      <th>q8</th>\n",
       "      <th>q9</th>\n",
       "      <th>q10</th>\n",
       "      <th>q11</th>\n",
       "      <th>q12</th>\n",
       "      <th>q13</th>\n",
       "      <th>q14</th>\n",
       "      <th>q15</th>\n",
       "      <th>q16</th>\n",
       "      <th>q17</th>\n",
       "    </tr>\n",
       "  </thead>\n",
       "  <tbody>\n",
       "    <tr>\n",
       "      <th>0</th>\n",
       "      <td>4/27/2021 11:02:10</td>\n",
       "      <td>25-34</td>\n",
       "      <td>Education (Higher Education)</td>\n",
       "      <td>Research and Instruction Librarian</td>\n",
       "      <td>NaN</td>\n",
       "      <td>55,000</td>\n",
       "      <td>0.0</td>\n",
       "      <td>USD</td>\n",
       "      <td>NaN</td>\n",
       "      <td>NaN</td>\n",
       "      <td>United States</td>\n",
       "      <td>Massachusetts</td>\n",
       "      <td>Boston</td>\n",
       "      <td>5-7 years</td>\n",
       "      <td>5-7 years</td>\n",
       "      <td>Master's degree</td>\n",
       "      <td>Woman</td>\n",
       "      <td>White</td>\n",
       "    </tr>\n",
       "    <tr>\n",
       "      <th>1</th>\n",
       "      <td>4/27/2021 11:02:22</td>\n",
       "      <td>25-34</td>\n",
       "      <td>Computing or Tech</td>\n",
       "      <td>Change &amp; Internal Communications Manager</td>\n",
       "      <td>NaN</td>\n",
       "      <td>54,600</td>\n",
       "      <td>4000.0</td>\n",
       "      <td>GBP</td>\n",
       "      <td>NaN</td>\n",
       "      <td>NaN</td>\n",
       "      <td>United Kingdom</td>\n",
       "      <td>NaN</td>\n",
       "      <td>Cambridge</td>\n",
       "      <td>8 - 10 years</td>\n",
       "      <td>5-7 years</td>\n",
       "      <td>College degree</td>\n",
       "      <td>Non-binary</td>\n",
       "      <td>White</td>\n",
       "    </tr>\n",
       "    <tr>\n",
       "      <th>2</th>\n",
       "      <td>4/27/2021 11:02:38</td>\n",
       "      <td>25-34</td>\n",
       "      <td>Accounting, Banking &amp; Finance</td>\n",
       "      <td>Marketing Specialist</td>\n",
       "      <td>NaN</td>\n",
       "      <td>34,000</td>\n",
       "      <td>NaN</td>\n",
       "      <td>USD</td>\n",
       "      <td>NaN</td>\n",
       "      <td>NaN</td>\n",
       "      <td>US</td>\n",
       "      <td>Tennessee</td>\n",
       "      <td>Chattanooga</td>\n",
       "      <td>2 - 4 years</td>\n",
       "      <td>2 - 4 years</td>\n",
       "      <td>College degree</td>\n",
       "      <td>Woman</td>\n",
       "      <td>White</td>\n",
       "    </tr>\n",
       "    <tr>\n",
       "      <th>3</th>\n",
       "      <td>4/27/2021 11:02:41</td>\n",
       "      <td>25-34</td>\n",
       "      <td>Nonprofits</td>\n",
       "      <td>Program Manager</td>\n",
       "      <td>NaN</td>\n",
       "      <td>62,000</td>\n",
       "      <td>3000.0</td>\n",
       "      <td>USD</td>\n",
       "      <td>NaN</td>\n",
       "      <td>NaN</td>\n",
       "      <td>USA</td>\n",
       "      <td>Wisconsin</td>\n",
       "      <td>Milwaukee</td>\n",
       "      <td>8 - 10 years</td>\n",
       "      <td>5-7 years</td>\n",
       "      <td>College degree</td>\n",
       "      <td>Woman</td>\n",
       "      <td>White</td>\n",
       "    </tr>\n",
       "    <tr>\n",
       "      <th>4</th>\n",
       "      <td>4/27/2021 11:02:42</td>\n",
       "      <td>25-34</td>\n",
       "      <td>Accounting, Banking &amp; Finance</td>\n",
       "      <td>Accounting Manager</td>\n",
       "      <td>NaN</td>\n",
       "      <td>60,000</td>\n",
       "      <td>7000.0</td>\n",
       "      <td>USD</td>\n",
       "      <td>NaN</td>\n",
       "      <td>NaN</td>\n",
       "      <td>US</td>\n",
       "      <td>South Carolina</td>\n",
       "      <td>Greenville</td>\n",
       "      <td>8 - 10 years</td>\n",
       "      <td>5-7 years</td>\n",
       "      <td>College degree</td>\n",
       "      <td>Woman</td>\n",
       "      <td>White</td>\n",
       "    </tr>\n",
       "  </tbody>\n",
       "</table>\n",
       "</div>"
      ],
      "text/plain": [
       "            timestamp     q1                             q2  \\\n",
       "0  4/27/2021 11:02:10  25-34   Education (Higher Education)   \n",
       "1  4/27/2021 11:02:22  25-34              Computing or Tech   \n",
       "2  4/27/2021 11:02:38  25-34  Accounting, Banking & Finance   \n",
       "3  4/27/2021 11:02:41  25-34                     Nonprofits   \n",
       "4  4/27/2021 11:02:42  25-34  Accounting, Banking & Finance   \n",
       "\n",
       "                                         q3   q4      q5      q6   q7   q8  \\\n",
       "0        Research and Instruction Librarian  NaN  55,000     0.0  USD  NaN   \n",
       "1  Change & Internal Communications Manager  NaN  54,600  4000.0  GBP  NaN   \n",
       "2                      Marketing Specialist  NaN  34,000     NaN  USD  NaN   \n",
       "3                           Program Manager  NaN  62,000  3000.0  USD  NaN   \n",
       "4                        Accounting Manager  NaN  60,000  7000.0  USD  NaN   \n",
       "\n",
       "    q9             q10             q11          q12           q13  \\\n",
       "0  NaN   United States   Massachusetts       Boston     5-7 years   \n",
       "1  NaN  United Kingdom             NaN    Cambridge  8 - 10 years   \n",
       "2  NaN              US       Tennessee  Chattanooga   2 - 4 years   \n",
       "3  NaN             USA       Wisconsin    Milwaukee  8 - 10 years   \n",
       "4  NaN              US  South Carolina   Greenville  8 - 10 years   \n",
       "\n",
       "           q14              q15         q16    q17  \n",
       "0    5-7 years  Master's degree       Woman  White  \n",
       "1    5-7 years   College degree  Non-binary  White  \n",
       "2  2 - 4 years   College degree       Woman  White  \n",
       "3    5-7 years   College degree       Woman  White  \n",
       "4    5-7 years   College degree       Woman  White  "
      ]
     },
     "execution_count": 18,
     "metadata": {},
     "output_type": "execute_result"
    }
   ],
   "source": [
    "df.head()"
   ]
  },
  {
   "cell_type": "markdown",
   "id": "c1ce58c7-0e14-4426-a4b7-96805ea64bbb",
   "metadata": {},
   "source": [
    "### Assignment\n",
    "Your goal for this assignment is to observe how your data treatment during the cleaning process can skew or bias the dataset.\n",
    "\n",
    "Before diving right in, stop and read through the questions associated with the dataset. As you can see, they are either free-form text entries or categorical selections. Knowing this, perform some exploratory data analysis (EDA) to investigate the \"state\" of the dataset.\n",
    "\n",
    "[Add as many code cell below here as needs]\n"
   ]
  },
  {
   "cell_type": "markdown",
   "id": "10a740e9",
   "metadata": {},
   "source": [
    "# checking null values"
   ]
  },
  {
   "cell_type": "code",
   "execution_count": 4,
   "id": "32fe5581-c12c-4b1d-bcde-be9bb0998553",
   "metadata": {},
   "outputs": [
    {
     "data": {
      "text/plain": [
       "timestamp        0\n",
       "q1               0\n",
       "q2              75\n",
       "q3               1\n",
       "q4           20835\n",
       "q5               0\n",
       "q6            7315\n",
       "q7               0\n",
       "q8           27897\n",
       "q9           25061\n",
       "q10              0\n",
       "q11           5034\n",
       "q12             82\n",
       "q13              0\n",
       "q14              0\n",
       "q15            223\n",
       "q16            171\n",
       "q17            177\n",
       "dtype: int64"
      ]
     },
     "execution_count": 4,
     "metadata": {},
     "output_type": "execute_result"
    }
   ],
   "source": [
    "df.isna().sum()"
   ]
  },
  {
   "cell_type": "code",
   "execution_count": 5,
   "id": "b8a914f6",
   "metadata": {},
   "outputs": [
    {
     "data": {
      "text/plain": [
       "timestamp     0.000000\n",
       "q1            0.000000\n",
       "q2            0.266828\n",
       "q3            0.003558\n",
       "q4           74.124804\n",
       "q5            0.000000\n",
       "q6           26.024619\n",
       "q7            0.000000\n",
       "q8           99.249324\n",
       "q9           89.159670\n",
       "q10           0.000000\n",
       "q11          17.909492\n",
       "q12           0.291732\n",
       "q13           0.000000\n",
       "q14           0.000000\n",
       "q15           0.793368\n",
       "q16           0.608368\n",
       "q17           0.629714\n",
       "dtype: float64"
      ]
     },
     "execution_count": 5,
     "metadata": {},
     "output_type": "execute_result"
    }
   ],
   "source": [
    "df.isna().sum()/len(df)*100"
   ]
  },
  {
   "cell_type": "markdown",
   "id": "557385e2",
   "metadata": {},
   "source": [
    "# checking duplicates"
   ]
  },
  {
   "cell_type": "code",
   "execution_count": 6,
   "id": "01430ff1",
   "metadata": {},
   "outputs": [
    {
     "data": {
      "text/plain": [
       "0"
      ]
     },
     "execution_count": 6,
     "metadata": {},
     "output_type": "execute_result"
    }
   ],
   "source": [
    "df.duplicated().sum()"
   ]
  },
  {
   "cell_type": "markdown",
   "id": "505af780",
   "metadata": {},
   "source": [
    "# details of the columns"
   ]
  },
  {
   "cell_type": "markdown",
   "id": "8e7b473b",
   "metadata": {},
   "source": [
    "timestamp: Date and time when the survey response was submitted. Useful for analyzing trends over time.\n",
    "\n",
    "q1 (Age Group): Age range of the respondent (e.g., 18-24, 25-34, etc.).\n",
    "\n",
    "q2 (Industry): Industry in which the respondent works (e.g., Tech, Finance, Healthcare, etc.). Often free-form text, which can lead to many unique entries.\n",
    "\n",
    "q3 (Job Title): Respondent's job title (e.g., Software Engineer, Data Scientist, Marketing Manager, etc.). Usually free-form text.\n",
    "\n",
    "q4 (Experience in Current Role): Years or months the respondent has been in their current role.\n",
    "\n",
    "q5 (Salary): Respondent's annual salary (or hourly wage, depending on the survey). This is the key numerical variable.\n",
    "\n",
    "q6 (Bonus): Amount of bonus or additional compensation received by the respondent.\n",
    "\n",
    "q7 (Currency): Currency in which the salary and bonus are paid (e.g., USD, EUR, GBP, etc.).\n",
    "\n",
    "q8 (Additional Comments/Benefits): Free-form text field for any additional comments or information about benefits, perks, etc.\n",
    "\n",
    "q9 (Other Languages): Languages spoken by the respondent (often free-form text).\n",
    "\n",
    "q10 (Country): Country where the respondent is located.\n",
    "\n",
    "q11 (State/Region/Location): State, region, or other location information (can be more granular than country).\n",
    "\n",
    "q12 (City): City of residence or work.\n",
    "\n",
    "q13 (Years in Current Industry): Years of experience in the respondent's current industry.\n",
    "\n",
    "q14 (Years of Experience Overall): Total years of work experience.\n",
    "\n",
    "q15 (Education Level): Highest level of education attained by the respondent (e.g., High School, Bachelor's Degree, Master's Degree, PhD, etc.).\n",
    "\n",
    "q16 (Gender): Gender of the respondent.\n",
    "\n",
    "q17 (Race/Ethnicity): Race or ethnicity of the respondent."
   ]
  },
  {
   "cell_type": "code",
   "execution_count": 7,
   "id": "c4f2dab9",
   "metadata": {},
   "outputs": [
    {
     "data": {
      "text/html": [
       "<div>\n",
       "<style scoped>\n",
       "    .dataframe tbody tr th:only-of-type {\n",
       "        vertical-align: middle;\n",
       "    }\n",
       "\n",
       "    .dataframe tbody tr th {\n",
       "        vertical-align: top;\n",
       "    }\n",
       "\n",
       "    .dataframe thead th {\n",
       "        text-align: right;\n",
       "    }\n",
       "</style>\n",
       "<table border=\"1\" class=\"dataframe\">\n",
       "  <thead>\n",
       "    <tr style=\"text-align: right;\">\n",
       "      <th></th>\n",
       "      <th>timestamp</th>\n",
       "      <th>q1</th>\n",
       "      <th>q2</th>\n",
       "      <th>q3</th>\n",
       "      <th>q4</th>\n",
       "      <th>q5</th>\n",
       "      <th>q6</th>\n",
       "      <th>q7</th>\n",
       "      <th>q8</th>\n",
       "      <th>q9</th>\n",
       "      <th>q10</th>\n",
       "      <th>q11</th>\n",
       "      <th>q12</th>\n",
       "      <th>q13</th>\n",
       "      <th>q14</th>\n",
       "      <th>q15</th>\n",
       "      <th>q16</th>\n",
       "      <th>q17</th>\n",
       "    </tr>\n",
       "  </thead>\n",
       "  <tbody>\n",
       "    <tr>\n",
       "      <th>count</th>\n",
       "      <td>28108</td>\n",
       "      <td>28108</td>\n",
       "      <td>28033</td>\n",
       "      <td>28107</td>\n",
       "      <td>7273</td>\n",
       "      <td>28108</td>\n",
       "      <td>2.079300e+04</td>\n",
       "      <td>28108</td>\n",
       "      <td>211</td>\n",
       "      <td>3047</td>\n",
       "      <td>28108</td>\n",
       "      <td>23074</td>\n",
       "      <td>28026</td>\n",
       "      <td>28108</td>\n",
       "      <td>28108</td>\n",
       "      <td>27885</td>\n",
       "      <td>27937</td>\n",
       "      <td>27931</td>\n",
       "    </tr>\n",
       "    <tr>\n",
       "      <th>unique</th>\n",
       "      <td>25326</td>\n",
       "      <td>7</td>\n",
       "      <td>1220</td>\n",
       "      <td>14377</td>\n",
       "      <td>7010</td>\n",
       "      <td>4319</td>\n",
       "      <td>NaN</td>\n",
       "      <td>11</td>\n",
       "      <td>124</td>\n",
       "      <td>2983</td>\n",
       "      <td>382</td>\n",
       "      <td>137</td>\n",
       "      <td>4841</td>\n",
       "      <td>8</td>\n",
       "      <td>8</td>\n",
       "      <td>6</td>\n",
       "      <td>5</td>\n",
       "      <td>51</td>\n",
       "    </tr>\n",
       "    <tr>\n",
       "      <th>top</th>\n",
       "      <td>4/27/2021 11:05:08</td>\n",
       "      <td>25-34</td>\n",
       "      <td>Computing or Tech</td>\n",
       "      <td>Software Engineer</td>\n",
       "      <td>Fundraising</td>\n",
       "      <td>60,000</td>\n",
       "      <td>NaN</td>\n",
       "      <td>USD</td>\n",
       "      <td>INR</td>\n",
       "      <td>Hourly</td>\n",
       "      <td>United States</td>\n",
       "      <td>California</td>\n",
       "      <td>Boston</td>\n",
       "      <td>11 - 20 years</td>\n",
       "      <td>11 - 20 years</td>\n",
       "      <td>College degree</td>\n",
       "      <td>Woman</td>\n",
       "      <td>White</td>\n",
       "    </tr>\n",
       "    <tr>\n",
       "      <th>freq</th>\n",
       "      <td>5</td>\n",
       "      <td>12668</td>\n",
       "      <td>4711</td>\n",
       "      <td>286</td>\n",
       "      <td>20</td>\n",
       "      <td>430</td>\n",
       "      <td>NaN</td>\n",
       "      <td>23410</td>\n",
       "      <td>11</td>\n",
       "      <td>4</td>\n",
       "      <td>9004</td>\n",
       "      <td>2611</td>\n",
       "      <td>772</td>\n",
       "      <td>9630</td>\n",
       "      <td>6542</td>\n",
       "      <td>13536</td>\n",
       "      <td>21389</td>\n",
       "      <td>23235</td>\n",
       "    </tr>\n",
       "    <tr>\n",
       "      <th>mean</th>\n",
       "      <td>NaN</td>\n",
       "      <td>NaN</td>\n",
       "      <td>NaN</td>\n",
       "      <td>NaN</td>\n",
       "      <td>NaN</td>\n",
       "      <td>NaN</td>\n",
       "      <td>1.824460e+04</td>\n",
       "      <td>NaN</td>\n",
       "      <td>NaN</td>\n",
       "      <td>NaN</td>\n",
       "      <td>NaN</td>\n",
       "      <td>NaN</td>\n",
       "      <td>NaN</td>\n",
       "      <td>NaN</td>\n",
       "      <td>NaN</td>\n",
       "      <td>NaN</td>\n",
       "      <td>NaN</td>\n",
       "      <td>NaN</td>\n",
       "    </tr>\n",
       "    <tr>\n",
       "      <th>std</th>\n",
       "      <td>NaN</td>\n",
       "      <td>NaN</td>\n",
       "      <td>NaN</td>\n",
       "      <td>NaN</td>\n",
       "      <td>NaN</td>\n",
       "      <td>NaN</td>\n",
       "      <td>8.336249e+05</td>\n",
       "      <td>NaN</td>\n",
       "      <td>NaN</td>\n",
       "      <td>NaN</td>\n",
       "      <td>NaN</td>\n",
       "      <td>NaN</td>\n",
       "      <td>NaN</td>\n",
       "      <td>NaN</td>\n",
       "      <td>NaN</td>\n",
       "      <td>NaN</td>\n",
       "      <td>NaN</td>\n",
       "      <td>NaN</td>\n",
       "    </tr>\n",
       "    <tr>\n",
       "      <th>min</th>\n",
       "      <td>NaN</td>\n",
       "      <td>NaN</td>\n",
       "      <td>NaN</td>\n",
       "      <td>NaN</td>\n",
       "      <td>NaN</td>\n",
       "      <td>NaN</td>\n",
       "      <td>0.000000e+00</td>\n",
       "      <td>NaN</td>\n",
       "      <td>NaN</td>\n",
       "      <td>NaN</td>\n",
       "      <td>NaN</td>\n",
       "      <td>NaN</td>\n",
       "      <td>NaN</td>\n",
       "      <td>NaN</td>\n",
       "      <td>NaN</td>\n",
       "      <td>NaN</td>\n",
       "      <td>NaN</td>\n",
       "      <td>NaN</td>\n",
       "    </tr>\n",
       "    <tr>\n",
       "      <th>25%</th>\n",
       "      <td>NaN</td>\n",
       "      <td>NaN</td>\n",
       "      <td>NaN</td>\n",
       "      <td>NaN</td>\n",
       "      <td>NaN</td>\n",
       "      <td>NaN</td>\n",
       "      <td>0.000000e+00</td>\n",
       "      <td>NaN</td>\n",
       "      <td>NaN</td>\n",
       "      <td>NaN</td>\n",
       "      <td>NaN</td>\n",
       "      <td>NaN</td>\n",
       "      <td>NaN</td>\n",
       "      <td>NaN</td>\n",
       "      <td>NaN</td>\n",
       "      <td>NaN</td>\n",
       "      <td>NaN</td>\n",
       "      <td>NaN</td>\n",
       "    </tr>\n",
       "    <tr>\n",
       "      <th>50%</th>\n",
       "      <td>NaN</td>\n",
       "      <td>NaN</td>\n",
       "      <td>NaN</td>\n",
       "      <td>NaN</td>\n",
       "      <td>NaN</td>\n",
       "      <td>NaN</td>\n",
       "      <td>2.000000e+03</td>\n",
       "      <td>NaN</td>\n",
       "      <td>NaN</td>\n",
       "      <td>NaN</td>\n",
       "      <td>NaN</td>\n",
       "      <td>NaN</td>\n",
       "      <td>NaN</td>\n",
       "      <td>NaN</td>\n",
       "      <td>NaN</td>\n",
       "      <td>NaN</td>\n",
       "      <td>NaN</td>\n",
       "      <td>NaN</td>\n",
       "    </tr>\n",
       "    <tr>\n",
       "      <th>75%</th>\n",
       "      <td>NaN</td>\n",
       "      <td>NaN</td>\n",
       "      <td>NaN</td>\n",
       "      <td>NaN</td>\n",
       "      <td>NaN</td>\n",
       "      <td>NaN</td>\n",
       "      <td>1.000000e+04</td>\n",
       "      <td>NaN</td>\n",
       "      <td>NaN</td>\n",
       "      <td>NaN</td>\n",
       "      <td>NaN</td>\n",
       "      <td>NaN</td>\n",
       "      <td>NaN</td>\n",
       "      <td>NaN</td>\n",
       "      <td>NaN</td>\n",
       "      <td>NaN</td>\n",
       "      <td>NaN</td>\n",
       "      <td>NaN</td>\n",
       "    </tr>\n",
       "    <tr>\n",
       "      <th>max</th>\n",
       "      <td>NaN</td>\n",
       "      <td>NaN</td>\n",
       "      <td>NaN</td>\n",
       "      <td>NaN</td>\n",
       "      <td>NaN</td>\n",
       "      <td>NaN</td>\n",
       "      <td>1.200000e+08</td>\n",
       "      <td>NaN</td>\n",
       "      <td>NaN</td>\n",
       "      <td>NaN</td>\n",
       "      <td>NaN</td>\n",
       "      <td>NaN</td>\n",
       "      <td>NaN</td>\n",
       "      <td>NaN</td>\n",
       "      <td>NaN</td>\n",
       "      <td>NaN</td>\n",
       "      <td>NaN</td>\n",
       "      <td>NaN</td>\n",
       "    </tr>\n",
       "  </tbody>\n",
       "</table>\n",
       "</div>"
      ],
      "text/plain": [
       "                 timestamp     q1                 q2                 q3  \\\n",
       "count                28108  28108              28033              28107   \n",
       "unique               25326      7               1220              14377   \n",
       "top     4/27/2021 11:05:08  25-34  Computing or Tech  Software Engineer   \n",
       "freq                     5  12668               4711                286   \n",
       "mean                   NaN    NaN                NaN                NaN   \n",
       "std                    NaN    NaN                NaN                NaN   \n",
       "min                    NaN    NaN                NaN                NaN   \n",
       "25%                    NaN    NaN                NaN                NaN   \n",
       "50%                    NaN    NaN                NaN                NaN   \n",
       "75%                    NaN    NaN                NaN                NaN   \n",
       "max                    NaN    NaN                NaN                NaN   \n",
       "\n",
       "                 q4      q5            q6     q7   q8      q9            q10  \\\n",
       "count          7273   28108  2.079300e+04  28108  211    3047          28108   \n",
       "unique         7010    4319           NaN     11  124    2983            382   \n",
       "top     Fundraising  60,000           NaN    USD  INR  Hourly  United States   \n",
       "freq             20     430           NaN  23410   11       4           9004   \n",
       "mean            NaN     NaN  1.824460e+04    NaN  NaN     NaN            NaN   \n",
       "std             NaN     NaN  8.336249e+05    NaN  NaN     NaN            NaN   \n",
       "min             NaN     NaN  0.000000e+00    NaN  NaN     NaN            NaN   \n",
       "25%             NaN     NaN  0.000000e+00    NaN  NaN     NaN            NaN   \n",
       "50%             NaN     NaN  2.000000e+03    NaN  NaN     NaN            NaN   \n",
       "75%             NaN     NaN  1.000000e+04    NaN  NaN     NaN            NaN   \n",
       "max             NaN     NaN  1.200000e+08    NaN  NaN     NaN            NaN   \n",
       "\n",
       "               q11     q12            q13            q14             q15  \\\n",
       "count        23074   28026          28108          28108           27885   \n",
       "unique         137    4841              8              8               6   \n",
       "top     California  Boston  11 - 20 years  11 - 20 years  College degree   \n",
       "freq          2611     772           9630           6542           13536   \n",
       "mean           NaN     NaN            NaN            NaN             NaN   \n",
       "std            NaN     NaN            NaN            NaN             NaN   \n",
       "min            NaN     NaN            NaN            NaN             NaN   \n",
       "25%            NaN     NaN            NaN            NaN             NaN   \n",
       "50%            NaN     NaN            NaN            NaN             NaN   \n",
       "75%            NaN     NaN            NaN            NaN             NaN   \n",
       "max            NaN     NaN            NaN            NaN             NaN   \n",
       "\n",
       "          q16    q17  \n",
       "count   27937  27931  \n",
       "unique      5     51  \n",
       "top     Woman  White  \n",
       "freq    21389  23235  \n",
       "mean      NaN    NaN  \n",
       "std       NaN    NaN  \n",
       "min       NaN    NaN  \n",
       "25%       NaN    NaN  \n",
       "50%       NaN    NaN  \n",
       "75%       NaN    NaN  \n",
       "max       NaN    NaN  "
      ]
     },
     "execution_count": 7,
     "metadata": {},
     "output_type": "execute_result"
    }
   ],
   "source": [
    "df.describe(include='all')"
   ]
  },
  {
   "cell_type": "markdown",
   "id": "47a4bd92",
   "metadata": {},
   "source": [
    "# checking unique values"
   ]
  },
  {
   "cell_type": "code",
   "execution_count": 8,
   "id": "9615c999",
   "metadata": {},
   "outputs": [
    {
     "name": "stdout",
     "output_type": "stream",
     "text": [
      "Unique values in q2 (Industry): ['Education (Higher Education)' 'Computing or Tech'\n",
      " 'Accounting, Banking & Finance' ... 'Student ' 'Wine & Spirits'\n",
      " 'Social networks']\n"
     ]
    }
   ],
   "source": [
    "print(\"Unique values in q2 (Industry):\", df['q2'].unique())\n"
   ]
  },
  {
   "cell_type": "code",
   "execution_count": 9,
   "id": "4d8fa290",
   "metadata": {},
   "outputs": [
    {
     "name": "stdout",
     "output_type": "stream",
     "text": [
      "Unique values in q3 (Job Title): ['Research and Instruction Librarian'\n",
      " 'Change & Internal Communications Manager' 'Marketing Specialist' ...\n",
      " 'Product communication and education specialist'\n",
      " 'Director of content design' 'CMO']\n"
     ]
    }
   ],
   "source": [
    "print(\"Unique values in q3 (Job Title):\", df['q3'].unique())\n"
   ]
  },
  {
   "cell_type": "code",
   "execution_count": 10,
   "id": "cc70583f",
   "metadata": {},
   "outputs": [
    {
     "name": "stdout",
     "output_type": "stream",
     "text": [
      "Unique values in q5 (Salary): ['55,000' '54,600' '34,000' ... '10' '24000000' '279000']\n"
     ]
    }
   ],
   "source": [
    "print(\"Unique values in q5 (Salary):\", df['q5'].unique())\n"
   ]
  },
  {
   "cell_type": "code",
   "execution_count": 11,
   "id": "3c8afc0b",
   "metadata": {},
   "outputs": [
    {
     "name": "stdout",
     "output_type": "stream",
     "text": [
      "Value  counts in q5 (Salary): q5\n",
      "60,000    430\n",
      "80,000    406\n",
      "70,000    402\n",
      "65,000    400\n",
      "75,000    383\n",
      "         ... \n",
      "69,888      1\n",
      "97,129      1\n",
      "83,600      1\n",
      "52,260      1\n",
      "279000      1\n",
      "Name: count, Length: 4319, dtype: int64\n"
     ]
    }
   ],
   "source": [
    "print(\"Value  counts in q5 (Salary):\", df['q5'].value_counts())\n"
   ]
  },
  {
   "cell_type": "code",
   "execution_count": 12,
   "id": "39cfc0c5",
   "metadata": {},
   "outputs": [
    {
     "name": "stdout",
     "output_type": "stream",
     "text": [
      "Unique values in q6 (Bonus): [0.00000e+00 4.00000e+03         nan 3.00000e+03 7.00000e+03 2.00000e+03\n",
      " 1.00000e+04 5.00000e+02 5.00000e+03 1.00000e+03 1.50000e+04 1.00000e+02\n",
      " 5.00000e+04 6.00000e+03 2.00000e+04 1.50000e+03 2.50000e+03 4.00000e+04\n",
      " 2.50000e+04 8.40000e+03 3.60000e+03 1.30000e+04 8.50000e+03 6.00000e+04\n",
      " 8.00000e+03 3.05000e+02 1.60830e+04 1.50000e+02 3.00000e+04 9.00000e+03\n",
      " 7.50000e+03 1.87500e+04 1.20000e+04 1.40000e+03 5.50000e+04 1.40000e+04\n",
      " 1.75500e+04 2.40000e+03 1.89000e+05 3.50000e+03 5.75000e+03 2.70000e+03\n",
      " 1.30000e+05 3.10000e+04 2.00000e+02 8.80000e+03 1.75000e+05 2.30000e+03\n",
      " 1.60000e+04 3.50000e+04 3.14050e+04 8.00000e+04 7.00000e+04 2.80000e+04\n",
      " 3.40000e+04 1.80000e+04 1.17000e+04 8.00000e+02 4.00000e+02 9.00000e+02\n",
      " 1.32180e+04 6.50000e+03 7.20000e+02 1.78500e+04 8.55000e+03 5.25000e+03\n",
      " 1.20000e+03 2.23000e+05 1.00000e+05 5.20000e+03 3.05650e+04 7.00000e+00\n",
      " 1.75000e+03 8.20000e+03 1.80000e+03 1.16000e+04 5.95000e+03 3.07500e+04\n",
      " 7.13000e+03 2.40550e+04 6.40000e+03 6.90000e+04 4.50000e+03 1.86000e+04\n",
      " 7.10000e+03 7.20000e+03 2.20000e+03 7.50000e+04 7.60000e+04 1.10000e+04\n",
      " 1.16250e+04 3.50000e+02 3.30000e+03 7.00000e+02 6.00000e+00 8.50000e+04\n",
      " 2.10000e+04 2.70000e+04 8.75000e+03 4.13630e+04 4.20000e+03 3.00000e+02\n",
      " 5.45300e+03 1.09200e+04 1.84800e+03 2.67500e+03 2.50000e+05 1.21000e+04\n",
      " 3.15000e+03 1.92000e+04 1.92000e+03 1.70000e+03 1.40000e+05 1.25000e+04\n",
      " 2.60000e+03 2.80000e+03 6.63000e+04 1.56000e+04 4.50000e+02 2.25000e+04\n",
      " 1.75000e+04 1.00000e+01 5.50000e+03 1.37000e+05 1.31500e+03 1.10000e+05\n",
      " 4.25000e+05 2.75000e+04 1.17500e+04 4.85000e+03 2.07000e+03 4.15000e+04\n",
      " 1.70000e+04 1.73320e+04 2.01600e+04 2.50000e+02 8.50000e+05 3.40000e+03\n",
      " 1.85000e+04 6.00000e+02 1.30000e+03 8.51100e+03 6.50000e+04 7.72500e+03\n",
      " 2.10000e+03 4.50000e+04 9.50000e+03 1.55000e+03 3.60000e+04 6.68200e+03\n",
      " 1.50000e+01 2.20000e+04 1.01500e+04 2.18000e+04 3.70000e+03 7.50000e+02\n",
      " 1.66290e+04 2.04000e+04 1.35000e+04 1.49210e+04 2.40000e+04 9.12000e+03\n",
      " 1.10000e+03 5.10000e+04 7.80000e+03 4.56000e+03 1.53000e+04 2.30000e+04\n",
      " 9.20000e+04 7.15000e+03 1.57230e+04 2.60000e+04 2.10000e+02 9.63000e+03\n",
      " 4.55000e+05 3.70000e+04 1.86000e+03 5.30000e+04 4.70000e+03 2.00000e+05\n",
      " 3.75200e+03 2.20000e+05 2.36000e+04 3.24500e+03 1.16800e+04 7.80000e+04\n",
      " 1.23250e+04 6.94700e+03 6.20000e+03 1.53390e+04 1.77520e+04 1.25000e+03\n",
      " 2.24800e+04 4.72500e+03 1.07750e+04 2.05000e+04 1.15000e+05 1.51700e+03\n",
      " 5.40000e+03 5.70000e+04 1.16500e+04 2.40750e+04 9.70000e+03 7.70000e+03\n",
      " 4.10500e+03 4.40000e+03 4.40000e+01 9.83000e+03 2.90000e+03 2.25000e+05\n",
      " 3.56000e+03 7.20000e+04 9.00000e+04 1.25000e+05 4.80000e+03 1.42500e+04\n",
      " 1.32000e+04 1.20000e+05 3.12000e+02 2.80000e+05 8.49000e+03 1.60000e+03\n",
      " 3.89000e+03 1.24420e+04 3.50000e+05 4.22810e+04 3.20000e+04 1.61560e+04\n",
      " 5.32000e+04 1.15000e+04 2.40000e+02 2.15000e+04 2.52500e+04 8.85000e+03\n",
      " 1.65000e+04 6.56200e+03 2.90000e+05 3.90000e+05 4.56000e+04 9.00000e+00\n",
      " 1.67650e+04 1.50000e+05 8.87500e+04 3.20000e+03 1.20000e+01 3.90000e+04\n",
      " 5.90000e+04 3.75000e+03 1.62000e+03 1.95000e+04 1.85000e+03 5.60000e+04\n",
      " 3.70370e+04 9.60000e+03 8.81200e+03 1.12000e+05 1.07000e+05 8.57700e+03\n",
      " 9.25000e+03 2.31400e+03 2.25000e+03 4.60000e+04 2.10350e+04 8.25000e+03\n",
      " 2.30000e+05 2.55000e+04 1.27000e+04 4.80000e+04 4.50000e+05 2.45000e+04\n",
      " 1.55600e+03 3.30000e+04 3.80000e+04 1.50660e+04 8.19000e+03 1.90000e+04\n",
      " 1.05000e+04 4.30000e+03 6.30000e+02 2.41500e+05 9.72000e+03 1.13000e+04\n",
      " 1.87500e+03 6.38000e+04 8.61000e+02 4.10000e+02 5.00000e+05 1.02000e+04\n",
      " 8.60000e+03 5.00000e+01 9.10000e+03 1.09000e+05 7.60000e+03 4.40000e+04\n",
      " 1.13300e+03 2.33300e+03 8.60000e+04 4.10000e+04 1.12000e+04 5.80000e+03\n",
      " 3.28000e+03 7.80000e+02 5.02700e+04 2.59200e+04 9.48900e+03 1.73250e+04\n",
      " 1.22000e+05 1.30350e+04 9.43200e+03 2.28000e+04 7.75000e+03 3.15000e+04\n",
      " 1.41380e+04 1.55000e+04 2.18000e+05 1.65000e+05 3.78400e+03 1.33200e+04\n",
      " 6.70000e+03 1.33000e+04 8.30000e+03 1.38000e+04 2.10480e+04 7.50000e+01\n",
      " 3.60000e+02 2.47570e+04 5.20000e+04 3.04700e+04 1.61000e+04 2.46480e+04\n",
      " 9.20000e+03 4.10000e+03 3.30000e+05 1.59000e+04 9.56600e+03 6.25000e+03\n",
      " 1.55760e+04 9.30000e+02 3.00000e+05 4.16600e+03 1.27500e+05 1.90000e+03\n",
      " 4.90000e+03 1.68000e+04 1.95050e+04 3.80000e+03 4.30000e+04 1.67000e+02\n",
      " 3.33000e+03 9.06600e+03 1.33000e+03 1.02786e+05 9.68300e+03 9.40000e+03\n",
      " 6.30000e+03 2.08000e+03 1.70000e+05 1.16000e+05 3.03680e+04 2.50000e+01\n",
      " 1.84520e+04 5.25500e+03 1.33000e+05 9.30000e+03 3.23750e+04 9.51900e+03\n",
      " 1.54000e+03 1.03000e+04 1.04000e+05 1.04740e+04 9.88800e+03 1.69000e+04\n",
      " 5.98200e+03 4.83630e+04 5.20000e+02 5.60000e+03 4.60000e+03 2.67000e+04\n",
      " 1.49000e+03 3.85000e+03 1.68750e+04 6.80000e+03 1.46000e+04 1.62000e+05\n",
      " 2.00000e+00 4.25000e+03 6.80000e+04 7.36000e+04 5.43000e+02 1.12549e+05\n",
      " 1.68960e+04 1.96000e+04 1.74450e+04 3.12500e+04 6.60000e+03 7.70000e+04\n",
      " 2.64000e+03 1.41000e+04 5.90000e+03 2.71750e+04 8.10000e+03 7.10400e+03\n",
      " 2.24000e+03 1.30000e+01 1.23000e+04 3.96000e+05 2.87600e+03 8.80000e+04\n",
      " 5.60230e+04 8.08800e+03 4.20000e+04 4.70000e+04 1.14000e+04 2.16750e+04\n",
      " 9.83400e+03 1.34000e+04 1.28000e+05 1.88000e+03 1.05600e+04 2.40000e+05\n",
      " 3.65000e+04 3.00900e+03 6.70000e+04 9.75000e+03 5.27500e+03 1.24000e+04\n",
      " 3.58000e+04 1.53040e+04 5.74000e+03 3.55000e+03 1.60000e+05 5.40000e+02\n",
      " 1.16880e+04 5.15000e+05 1.05000e+05 8.50000e+02 7.25000e+04 1.08000e+04\n",
      " 2.69000e+03 1.54250e+04 1.44000e+04 9.50000e+04 9.20000e+02 1.58000e+05\n",
      " 3.45000e+05 1.36000e+05 9.60000e+04 2.90000e+04 1.45000e+04 6.00000e+05\n",
      " 1.75000e+02 1.06400e+04 2.10000e+05 7.40000e+04 1.25530e+04 2.06000e+03\n",
      " 1.80000e+05 9.66000e+03 2.65000e+05 1.87000e+05 3.31250e+04 5.46000e+03\n",
      " 6.50000e+02 1.07500e+06 1.47500e+04 1.20000e+08 4.55000e+03 3.37500e+03\n",
      " 1.98100e+03 2.85000e+04 1.95440e+04 5.85000e+03 3.50000e+01 9.80000e+04\n",
      " 9.40700e+03 3.25000e+03 9.80000e+03 6.85000e+03 1.20000e+06 8.82000e+04\n",
      " 5.40000e+04 1.07000e+04 1.25000e+02 5.18800e+03 4.20000e+05 9.60000e+02\n",
      " 1.17700e+04 3.25000e+04 4.00000e+05 7.12500e+03 2.17500e+04 1.41010e+04\n",
      " 1.85000e+05 2.53800e+03 3.40500e+03 7.18300e+03 1.98000e+04 2.75000e+03\n",
      " 1.02100e+04 4.88800e+04 1.47000e+04 2.00000e+01 3.12000e+03 9.97500e+03\n",
      " 1.24800e+03 4.47000e+04 6.90000e+03 2.26500e+03 7.30000e+03 2.89500e+04\n",
      " 5.70000e+03 6.06800e+03 6.33880e+04 3.01300e+03 4.00000e+01 2.37500e+04\n",
      " 8.90000e+03 9.70000e+02 4.05000e+04 6.12000e+03 7.94500e+03 2.66140e+04\n",
      " 3.89050e+04 7.30000e+04 1.71870e+04 1.67000e+04 2.25500e+04 8.70000e+03\n",
      " 2.34000e+03 1.27500e+04 3.24000e+04 1.87200e+04 7.95000e+03 1.62390e+04\n",
      " 1.19900e+04 7.70000e+02 1.06000e+05 4.11300e+03 6.37500e+03 7.89800e+03\n",
      " 2.33640e+04 4.41520e+04 9.30000e+04 4.22000e+04 8.70000e+04 4.75000e+03\n",
      " 1.03020e+04 9.09100e+03 3.22100e+03 7.10000e+04 3.12000e+04 3.37590e+04\n",
      " 5.80000e+04 1.24000e+05 8.14100e+03 1.72500e+04 1.25400e+04 1.48750e+04\n",
      " 1.55000e+05 1.35000e+05 1.45000e+05 6.45000e+04 2.81900e+03 8.85800e+03\n",
      " 4.47500e+03 1.26000e+04 2.99000e+05 1.73000e+04 9.00000e+05 8.69600e+03\n",
      " 3.27000e+03 1.04000e+04 2.52000e+03 3.25000e+02 1.66000e+05 6.72500e+03\n",
      " 1.52500e+05 8.46100e+04 2.42000e+04 8.35000e+03 2.32010e+04 1.18500e+05\n",
      " 3.68400e+03 1.43800e+03 1.56240e+04 2.49000e+02 1.56000e+05 2.70000e+05\n",
      " 3.04000e+04 1.06000e+04 3.82300e+04 1.03820e+04 1.78000e+05 1.65000e+03\n",
      " 1.00000e+00 3.75000e+02 3.35000e+03 1.35000e+03 6.24000e+04 8.48480e+04\n",
      " 2.41800e+04 1.40640e+04 6.94800e+03 2.31825e+05 3.65000e+05 3.10000e+03\n",
      " 7.01500e+03 2.15000e+03 1.80000e+02 1.03500e+04 2.06300e+04 8.12500e+03\n",
      " 1.75950e+04 9.40000e+02 9.76000e+02 3.01000e+03 5.12840e+04 3.20000e+05\n",
      " 3.68200e+03 8.40000e+02 1.02000e+05 1.03000e+05 1.46250e+04 1.44200e+04\n",
      " 1.22000e+04 1.47000e+05 1.95000e+05 5.17500e+03 1.48000e+05 2.65200e+04\n",
      " 3.68000e+03 2.17000e+04 1.43500e+03 8.00000e+05 2.35000e+04 2.95000e+04\n",
      " 8.00000e+01 2.60000e+05 4.48000e+04 3.08000e+04 8.30000e+05 1.90000e+05\n",
      " 2.88000e+05 3.84000e+03 2.75000e+05 8.67000e+03 2.60000e+01 1.32000e+03\n",
      " 1.40000e+06 3.40000e+05 5.45000e+03 4.65000e+03 2.01000e+05 2.45500e+05\n",
      " 7.00000e+05 2.46000e+04 6.84000e+02 3.25000e+05 9.10000e+04 2.36800e+04\n",
      " 5.88000e+05 2.48370e+04 2.95500e+04 6.25000e+04 3.16870e+04 4.73800e+04\n",
      " 5.22000e+03 8.20000e+04 2.16000e+02 4.44000e+04 2.33000e+03 2.35000e+03\n",
      " 8.69000e+03 3.66000e+04 1.89000e+04 4.25000e+04 6.20000e+04 6.40000e+04\n",
      " 1.00000e+06 1.68500e+04 1.58700e+04 1.14300e+04 1.31000e+04 2.68000e+03\n",
      " 9.02000e+03 1.82000e+05 4.95000e+03 6.60000e+04 8.37500e+04 2.98310e+04\n",
      " 4.60000e+05 4.65370e+04 1.84500e+04 4.39500e+03 2.92000e+03 3.58800e+04\n",
      " 9.34000e+02 3.98000e+05 5.00090e+04 2.48550e+04 6.15000e+03 1.28000e+04\n",
      " 9.51000e+03 2.91000e+05 7.43400e+03 1.36000e+04 3.62500e+04 8.30000e+04\n",
      " 1.35200e+04 7.80000e+05 1.00500e+04 1.53310e+04 8.32000e+03 3.73970e+04\n",
      " 1.41000e+05 1.43000e+04 2.65000e+04 4.41100e+03 5.35000e+03 5.00900e+03\n",
      " 3.87000e+05 2.38500e+04 6.56620e+04 6.06100e+03 1.38000e+05 8.42000e+04\n",
      " 2.15000e+05 1.02900e+04 1.53500e+04 7.00000e+01 3.75000e+04 2.14800e+04\n",
      " 7.70600e+03 9.45000e+02 7.23400e+03 7.40000e+03 7.99600e+03 2.01500e+03\n",
      " 6.63000e+03 9.57000e+03 3.90000e+02 1.62500e+04 1.09000e+04 8.40000e+04\n",
      " 2.15100e+03 3.94200e+04 4.90000e+04 8.20000e+02 1.60000e+02 4.73000e+04\n",
      " 7.27700e+03 8.31600e+03 1.52000e+05 9.90000e+03 2.23340e+04 1.63000e+04\n",
      " 7.56800e+03 1.54000e+04 9.88000e+03 1.71600e+04 1.11500e+04 1.45775e+05\n",
      " 9.27000e+03 4.47200e+04 3.56200e+03 4.50800e+05 2.85000e+03 4.28500e+03\n",
      " 1.08150e+04 3.96000e+04 4.85560e+04 3.84800e+04 2.34000e+04 1.57500e+04\n",
      " 2.02500e+04 2.26000e+05 1.79600e+05 3.37500e+04 1.08400e+03 7.25000e+03\n",
      " 6.52000e+03 1.78000e+04 2.35700e+03 4.57700e+03 1.01000e+04 1.85400e+04\n",
      " 5.37500e+04 1.37300e+03 8.04000e+05 3.18000e+03 6.02800e+03 5.30000e+03\n",
      " 6.73000e+03 6.50000e+01 1.23500e+04 1.54400e+04 9.73300e+03 4.17500e+03\n",
      " 5.41600e+03 1.18000e+04 7.83000e+03 7.69500e+03 6.20000e+01 1.18000e+05\n",
      " 1.76000e+04 1.62120e+04 2.16450e+04 1.67200e+03 5.50000e+02 1.56000e+03\n",
      " 5.70200e+03 8.90000e+04 1.50000e+06 6.94200e+03 2.00000e+06 1.39500e+04\n",
      " 3.11500e+03 5.28000e+03 5.00000e+00 1.05670e+04 1.63800e+03 2.06000e+05\n",
      " 6.30000e+04 1.58400e+03 6.95500e+03 4.32000e+04 3.06400e+04 1.15200e+05\n",
      " 6.10000e+03 7.98200e+03 5.08000e+02 2.07000e+05 3.72000e+04 1.23500e+05\n",
      " 7.18450e+04 6.32500e+03 6.75000e+02 7.87500e+03 4.85000e+04 1.39000e+04\n",
      " 5.50000e+01 2.08000e+04 9.80000e+02 9.07500e+03 1.03200e+04 2.20000e+01\n",
      " 3.55530e+04 2.99000e+02 1.10000e+01]\n"
     ]
    }
   ],
   "source": [
    "print(\"Unique values in q6 (Bonus):\", df['q6'].unique())\n"
   ]
  },
  {
   "cell_type": "code",
   "execution_count": 13,
   "id": "5a250810",
   "metadata": {},
   "outputs": [
    {
     "name": "stdout",
     "output_type": "stream",
     "text": [
      "Unique values in q7 (Currency): ['USD' 'GBP' 'CAD' 'EUR' 'AUD/NZD' 'Other' 'CHF' 'ZAR' 'SEK' 'HKD' 'JPY']\n"
     ]
    }
   ],
   "source": [
    "print(\"Unique values in q7 (Currency):\", df['q7'].unique())\n"
   ]
  },
  {
   "cell_type": "code",
   "execution_count": 14,
   "id": "0958bc87",
   "metadata": {},
   "outputs": [
    {
     "name": "stdout",
     "output_type": "stream",
     "text": [
      "Unique values in q10 (Country): ['United States' 'United Kingdom' 'US' 'USA' 'Canada' 'United Kingdom '\n",
      " 'usa' 'UK' 'Scotland ' 'U.S.' 'United States ' 'The Netherlands'\n",
      " 'Australia ' 'Spain' 'us' 'Usa' 'England' 'finland'\n",
      " 'United States of America' 'France' 'United states' 'Scotland' 'USA '\n",
      " 'United states ' 'Germany' 'UK ' 'united states' 'Ireland' 'India'\n",
      " 'Australia' 'Uk' 'United States of America ' 'U.S. ' 'canada' 'Canada '\n",
      " 'U.S>' 'ISA' 'Argentina' 'Great Britain ' 'US ' 'United State' 'U.S.A'\n",
      " 'Denmark' 'U.S.A.' 'America' 'Netherlands' 'netherlands' 'England '\n",
      " 'united states of america' 'Ireland ' 'Switzerland' 'Netherlands '\n",
      " 'Bermuda' 'Us' 'The United States' 'United State of America' 'Germany '\n",
      " 'Malaysia' 'Mexico ' 'United Stated' 'South Africa ' 'Belgium'\n",
      " 'Northern Ireland' 'u.s.' 'South Africa' 'UNITED STATES' 'united States'\n",
      " 'Sweden' 'Hong Kong' 'Kuwait' 'Norway' 'Sri lanka' 'Contracts'\n",
      " 'USA-- Virgin Islands' 'United Statws' 'England/UK' 'U.S'\n",
      " \"We don't get raises, we get quarterly bonuses, but they periodically asses income in the area you work, so I got a raise because a 3rd party assessment showed I was paid too little for the area we were located\"\n",
      " 'Unites States ' 'Usa ' 'U.S.A. ' 'England, UK.' 'Greece' 'Japan'\n",
      " 'U. S. ' 'Britain ' 'United Sates' 'Japan ' 'Austria' 'Brazil'\n",
      " 'Canada, Ottawa, ontario' 'Global' 'Sweden ' 'United States of American '\n",
      " 'FRANCE' 'Uniited States' 'United Kingdom (England)'\n",
      " 'Worldwide (based in US but short term trips aroudn the world)' 'CANADA '\n",
      " 'Canadw' 'Hungary' 'Luxembourg' 'United Sates of America' 'ireland'\n",
      " 'United States (I work from home and my clients are all over the US/Canada/PR'\n",
      " 'Colombia' 'CANADA' 'Unted States' 'germany' 'United Statesp'\n",
      " 'United Stattes' 'United Statea' 'United Kingdom.' 'Mexico' 'New Zealand'\n",
      " 'Trinidad and Tobago' 'Unites States' 'United Statees' 'United kingdom'\n",
      " 'Cayman Islands' 'UNited States' 'Can'\n",
      " 'I am located in Canada but I work for a company in the US'\n",
      " 'United kingdom ' 'Uniyed states' 'Uniyes States'\n",
      " 'United States of Americas' 'U.A.' 'Czech republic' 'Czechia' 'Latvia'\n",
      " 'Finland' 'U. S.' 'Puerto Rico' 'US of A' 'Rwanda'\n",
      " 'United States of america ' 'United Arab Emirates ' 'Bangladesh '\n",
      " 'Spain ' 'U.K. ' 'Romania' 'U.SA' 'United Kindom' 'United Status'\n",
      " 'New Zealand ' 'Currently finance' ' U.S.' 'Serbia' 'Philippines'\n",
      " 'Russia ' 'Poland' 'UXZ' 'czech republic' 'England, UK' 'Turkey' 'Canda'\n",
      " 'Puerto Rico ' 'Canada and USA' 'Catalonia'\n",
      " '$2,175.84/year is deducted for benefits' 'uk' 'France ' 'Italy (South)'\n",
      " 'Jersey, Channel islands' 'Uk ' 'China' 'Virginia' 'Afghanistan' 'Israel'\n",
      " 'U.s.' 'Great Britain' 'U.s.a.' 'USS' 'Denmark ' 'Uniteed States'\n",
      " 'New Zealand Aotearoa' 'U.K.' 'Hartford' 'Japan, US Gov position'\n",
      " 'Csnada' 'United Stares' 'New zealand' 'Mainland China' 'I.S.'\n",
      " 'UK (Northern Ireland)' 'UK for U.S. company' ' US' 'Unites states ' 'NZ'\n",
      " 'Us ' 'Hong Kong ' 'Taiwan' 'Canad' 'Unite States' 'australia' 'The US'\n",
      " 'united states ' 'The Netherlands ' 'Cambodia'\n",
      " 'United states of America ' 'Vietnam' 'Remote' 'Singapore' 'South Korea'\n",
      " 'Czech Republic ' 'Thailand' 'Bangladesh' 'Lithuania' 'Eritrea'\n",
      " 'Indonesia' 'Singapore '\n",
      " 'For the United States government, but posted overseas' 'IS'\n",
      " 'Switzerland ' 'United Kingdomk' 'Italy' ' New Zealand' 'Cuba' 'Slovenia'\n",
      " 'Australi' \"Cote d'Ivoire\" 'united kingdom'\n",
      " 'From Romania, but for an US based company' 'Somalia'\n",
      " 'Wales (United Kingdom)' 'England, Gb' 'Czech Republic' 'UnitedStates'\n",
      " 'Sri Lanka' 'spain' 'Danmark' 'U.K. (northern England)' 'U.K' 'NL'\n",
      " 'the Netherlands' 'Nederland' 'Slovakia' 'United States of america'\n",
      " 'Portugal ' 'England, United Kingdom' 'Sierra Leone' 'Englang'\n",
      " 'United statew' 'UAE' 'Belgium '\n",
      " 'bonus based on meeting yearly goals set w/ my supervisor'\n",
      " 'International ' 'The Bahamas ' 'Wales'\n",
      " \"I earn commission on sales. If I meet quota, I'm guaranteed another 16k min. Last year i earned an additional 27k. It's not uncommon for people in my space to earn 100k+ after commission. \"\n",
      " 'Costa Rica' ' United States' 'United Statues' 'Untied States'\n",
      " 'USA (company is based in a US territory, I work remote)' 'Chile'\n",
      " 'denmark' 'UK (England)' 'UK, remote' 'Scotland, UK' 'USAB'\n",
      " 'Unitied States' 'Norway ' 'Qatar' 'United Sttes' 'Remote (philippines)'\n",
      " 'Brazil ' 'Unites kingdom ' 'South africa' 'Portugal' 'united stated'\n",
      " 'United States Of America' 'Nigeria' 'Panamá' 'Northern Ireland '\n",
      " 'england' 'SWITZERLAND'\n",
      " 'Austria, but I work remotely for a Dutch/British company'\n",
      " \"I work for an US based company but I'm from Argentina.\"\n",
      " 'I was brought in on this salary to help with the EHR and very quickly was promoted to current position but compensation was not altered. '\n",
      " 'Uniter Statez' 'U. S ' 'Congo' 'United states of America' 'Uruguay'\n",
      " 'Pakistan' 'Brasil' 'USA tomorrow ' 'United Stateds'\n",
      " 'n/a (remote from wherever I want)' 'singapore'\n",
      " 'US govt employee overseas, country withheld' 'usa ' 'Malaysia ' 'Uganda'\n",
      " 'Malta' 'Saudi Arabia' 'Bulgaria' 'Estonia' 'Morocco' 'new zealand'\n",
      " 'Africa' 'Ecuador' 'Zimbabwe' 'Ghana' 'San Francisco' 'Usat' '🇺🇸 '\n",
      " 'Luxemburg' 'Unitef Stated' 'UA' 'Wales, UK' 'United Stares ' 'Croatia '\n",
      " 'England, United Kingdom ' 'United STates' 'USaa' 'uSA' 'South Korea '\n",
      " 'The netherlands' 'Ukraine ' 'america' 'switzerland'\n",
      " 'United States- Puerto Rico'\n",
      " 'From New Zealand but on projects across APAC' 'Y' 'United y'\n",
      " 'Wales (UK)' 'Isle of Man' 'Northern Ireland, United Kingdom' 'europe'\n",
      " 'California ' 'UK, but for globally fully remote company' 'Australian '\n",
      " 'México' 'Jamaica' 'uS' 'USD' 'the netherlands'\n",
      " \"USA, but for foreign gov't\" 'japan' 'Kenya' 'Jordan' 'United Statss'\n",
      " 'ARGENTINA BUT MY ORG IS IN THAILAND' 'United states of america' 'UsA'\n",
      " 'I work for a UAE-based organization, though I am personally in the US.'\n",
      " 'United  States' 'france' 'Aotearoa New Zealand' 'na' 'Policy' 'Cyprus'\n",
      " 'hong konh' 'United States is America' 'Liechtenstein'\n",
      " 'Company in Germany. I work from Pakistan.' 'croatia' 'Canadá' 'ENGLAND'\n",
      " 'United States of American' 'U.S.A ' 'INDIA' 'Bosnia and Herzegovina'\n",
      " 'NIGERIA' 'Poland ' 'pakistan' 'Nigeria ' 'London' 'ss' 'dbfemf' 'ibdia'\n",
      " 'LOUTRELAND' 'philippines' 'ff' 'Myanmar' 'Burma' 'india' 'Tanzania'\n",
      " 'Česká republika']\n"
     ]
    }
   ],
   "source": [
    "print(\"Unique values in q10 (Country):\", df['q10'].unique())\n"
   ]
  },
  {
   "cell_type": "code",
   "execution_count": 15,
   "id": "7cf71835",
   "metadata": {},
   "outputs": [
    {
     "name": "stdout",
     "output_type": "stream",
     "text": [
      "Unique values in q11 (State/Region/Location): ['Massachusetts' nan 'Tennessee' 'Wisconsin' 'South Carolina'\n",
      " 'New Hampshire' 'Arizona' 'Missouri' 'Florida' 'Pennsylvania' 'Michigan'\n",
      " 'Minnesota' 'Illinois' 'California' 'Georgia' 'Ohio'\n",
      " 'District of Columbia' 'Maryland' 'Texas' 'Virginia' 'North Carolina'\n",
      " 'New York' 'New Jersey' 'Rhode Island' 'Colorado' 'Oregon' 'Washington'\n",
      " 'Indiana' 'Iowa' 'Nebraska' 'Oklahoma' 'Maine' 'Connecticut'\n",
      " 'South Dakota' 'West Virginia' 'Idaho' 'Louisiana' 'Montana' 'Kentucky'\n",
      " 'North Dakota' 'Kansas' 'Vermont' 'Arkansas' 'Alabama' 'Nevada'\n",
      " 'Delaware' 'New Mexico' 'Hawaii' 'Utah' 'Mississippi' 'Kentucky, Ohio'\n",
      " 'District of Columbia, Virginia' 'District of Columbia, Maryland'\n",
      " 'Alaska' 'Arizona, Washington' 'Georgia, New York' 'California, Colorado'\n",
      " 'California, Oregon'\n",
      " 'District of Columbia, Maryland, Pennsylvania, Virginia'\n",
      " 'Arizona, California' 'North Carolina, Utah' 'Wyoming' 'Ohio, Wyoming'\n",
      " 'Georgia, Tennessee' 'Massachusetts, Oregon' 'Alabama, Montana'\n",
      " 'Alabama, District of Columbia' 'California, Pennsylvania'\n",
      " 'New Jersey, Pennsylvania' 'Georgia, Washington' 'Alaska, Maryland'\n",
      " 'Michigan, South Carolina' 'Massachusetts, Rhode Island'\n",
      " 'Georgia, Minnesota' 'Colorado, Nevada'\n",
      " 'Maine, Massachusetts, New Hampshire, North Carolina'\n",
      " 'Alabama, Minnesota, Nevada' 'New Jersey, New York' 'Arizona, Utah'\n",
      " 'Alabama, Kansas' 'California, Oklahoma' 'Illinois, Wisconsin'\n",
      " 'Illinois, Kentucky' 'Arizona, California, Nevada, Texas'\n",
      " 'Alaska, Idaho, Oregon, Utah, Washington' 'Massachusetts, Pennsylvania'\n",
      " 'Nevada, Oregon' 'New Jersey, Virginia' 'Montana, Wyoming'\n",
      " 'Colorado, Massachusetts' 'District of Columbia, Maryland, Virginia'\n",
      " 'Massachusetts, Vermont' 'Massachusetts, New Hampshire'\n",
      " 'Arkansas, Iowa, Massachusetts, Ohio, Wyoming' 'New York, Texas'\n",
      " 'California, Montana' 'Iowa, Utah, Vermont' 'Texas, Virginia'\n",
      " 'Utah, Vermont' 'Arkansas, Illinois' 'Georgia, Massachusetts'\n",
      " 'Maryland, Virginia' 'Florida, Georgia, South Carolina'\n",
      " 'Arkansas, Idaho, Kansas, Louisiana, Michigan, Mississippi, Nevada, New York, South Carolina, Tennessee, Washington'\n",
      " 'California, Texas' 'Indiana, Ohio' 'Ohio, Washington' 'Kansas, Missouri'\n",
      " 'Colorado, Illinois' 'Arizona, Hawaii, Illinois, Michigan, Utah, Wyoming'\n",
      " 'California, New Jersey' 'Louisiana, Washington' 'Maryland, New York'\n",
      " 'District of Columbia, Washington' 'Delaware, Pennsylvania'\n",
      " 'Illinois, North Carolina' 'Indiana, Massachusetts'\n",
      " 'Florida, New Hampshire, Wisconsin' 'Pennsylvania, Rhode Island'\n",
      " 'New York, Oregon, Vermont' 'Iowa, Nebraska' 'California, New York'\n",
      " 'Arizona, New York'\n",
      " 'California, District of Columbia, Illinois, Iowa, Maryland, Minnesota'\n",
      " 'Oregon, Washington' 'New York, Virginia' 'Mississippi, Missouri'\n",
      " 'California, Maryland'\n",
      " 'California, Illinois, Massachusetts, North Carolina, South Carolina, Virginia'\n",
      " 'Alabama, California' 'Michigan, Texas, Washington' 'Alabama, Oregon'\n",
      " 'Alabama, Alaska, Arizona' 'Alabama, South Carolina'\n",
      " 'Colorado, Delaware, New Jersey, West Virginia, Wyoming'\n",
      " 'Utah, Wisconsin' 'Delaware, Louisiana' 'Florida, Georgia']\n"
     ]
    }
   ],
   "source": [
    "print(\"Unique values in q11 (State/Region/Location):\", df['q11'].unique())\n"
   ]
  },
  {
   "cell_type": "code",
   "execution_count": 16,
   "id": "47b5a2f2",
   "metadata": {},
   "outputs": [
    {
     "name": "stdout",
     "output_type": "stream",
     "text": [
      "Unique values in q12 (City): ['Boston' 'Cambridge' 'Chattanooga' ... 'Rabat'\n",
      " 'Tifton, Valdosta, Jacksonville' 'Dar es Salaam']\n"
     ]
    }
   ],
   "source": [
    "print(\"Unique values in q12 (City):\", df['q12'].unique())\n"
   ]
  },
  {
   "cell_type": "code",
   "execution_count": 17,
   "id": "a63ff39b",
   "metadata": {},
   "outputs": [
    {
     "name": "stdout",
     "output_type": "stream",
     "text": [
      "Unique values in q13 (Years in Current Industry): ['5-7 years' '8 - 10 years' '2 - 4 years' '21 - 30 years' '11 - 20 years'\n",
      " '1 year or less' '41 years or more' '31 - 40 years']\n"
     ]
    }
   ],
   "source": [
    "print(\"Unique values in q13 (Years in Current Industry):\", df['q13'].unique())\n"
   ]
  },
  {
   "cell_type": "code",
   "execution_count": 18,
   "id": "3770b27d",
   "metadata": {},
   "outputs": [
    {
     "name": "stdout",
     "output_type": "stream",
     "text": [
      "Unique values in q14 (Years of Experience Overall): ['5-7 years' '2 - 4 years' '21 - 30 years' '11 - 20 years'\n",
      " '1 year or less' '8 - 10 years' '31 - 40 years' '41 years or more']\n"
     ]
    }
   ],
   "source": [
    "print(\"Unique values in q14 (Years of Experience Overall):\", df['q14'].unique())\n"
   ]
  },
  {
   "cell_type": "code",
   "execution_count": 19,
   "id": "6018d87a",
   "metadata": {},
   "outputs": [
    {
     "name": "stdout",
     "output_type": "stream",
     "text": [
      "Unique values in q15 (Education): [\"Master's degree\" 'College degree' 'PhD' nan 'Some college' 'High School'\n",
      " 'Professional degree (MD, JD, etc.)']\n"
     ]
    }
   ],
   "source": [
    "print(\"Unique values in q15 (Education):\", df['q15'].unique())\n"
   ]
  },
  {
   "cell_type": "code",
   "execution_count": 20,
   "id": "2e1691bf",
   "metadata": {},
   "outputs": [
    {
     "name": "stdout",
     "output_type": "stream",
     "text": [
      "Unique values in q16 (Gender): ['Woman' 'Non-binary' 'Man' nan 'Other or prefer not to answer'\n",
      " 'Prefer not to answer']\n"
     ]
    }
   ],
   "source": [
    "print(\"Unique values in q16 (Gender):\", df['q16'].unique())\n"
   ]
  },
  {
   "cell_type": "code",
   "execution_count": 21,
   "id": "6d06c0fd",
   "metadata": {},
   "outputs": [
    {
     "name": "stdout",
     "output_type": "stream",
     "text": [
      "Value Counts in q16 (Gender): q16\n",
      "Woman                            21389\n",
      "Man                               5502\n",
      "Non-binary                         747\n",
      "Other or prefer not to answer      298\n",
      "Prefer not to answer                 1\n",
      "Name: count, dtype: int64\n"
     ]
    }
   ],
   "source": [
    "print(\"Value Counts in q16 (Gender):\", df['q16'].value_counts())\n"
   ]
  },
  {
   "cell_type": "code",
   "execution_count": 22,
   "id": "48aefc00",
   "metadata": {},
   "outputs": [
    {
     "name": "stdout",
     "output_type": "stream",
     "text": [
      "Unique values in q17 (Ethnicity): ['White' 'Hispanic, Latino, or Spanish origin, White'\n",
      " 'Asian or Asian American, White' 'Asian or Asian American'\n",
      " 'Another option not listed here or prefer not to answer'\n",
      " 'Hispanic, Latino, or Spanish origin'\n",
      " 'Middle Eastern or Northern African'\n",
      " 'Hispanic, Latino, or Spanish origin, Middle Eastern or Northern African, White'\n",
      " 'Black or African American' 'Black or African American, White' nan\n",
      " 'Black or African American, Hispanic, Latino, or Spanish origin, White'\n",
      " 'Native American or Alaska Native'\n",
      " 'Native American or Alaska Native, White'\n",
      " 'Hispanic, Latino, or Spanish origin, Another option not listed here or prefer not to answer'\n",
      " 'Black or African American, Middle Eastern or Northern African, Native American or Alaska Native, White'\n",
      " 'White, Another option not listed here or prefer not to answer'\n",
      " 'Black or African American, Native American or Alaska Native, White'\n",
      " 'Asian or Asian American, Another option not listed here or prefer not to answer'\n",
      " 'Middle Eastern or Northern African, White'\n",
      " 'Asian or Asian American, Black or African American, White'\n",
      " 'Black or African American, Hispanic, Latino, or Spanish origin'\n",
      " 'Asian or Asian American, Black or African American'\n",
      " 'Asian or Asian American, Hispanic, Latino, or Spanish origin, White'\n",
      " 'Native American or Alaska Native, White, Another option not listed here or prefer not to answer'\n",
      " 'Asian or Asian American, Hispanic, Latino, or Spanish origin'\n",
      " 'Asian or Asian American, Native American or Alaska Native, White'\n",
      " 'Hispanic, Latino, or Spanish origin, Native American or Alaska Native'\n",
      " 'Black or African American, Middle Eastern or Northern African, White'\n",
      " 'Black or African American, Hispanic, Latino, or Spanish origin, Native American or Alaska Native, White'\n",
      " 'Black or African American, Another option not listed here or prefer not to answer'\n",
      " 'Native American or Alaska Native, Another option not listed here or prefer not to answer'\n",
      " 'Asian or Asian American, White, Another option not listed here or prefer not to answer'\n",
      " 'Asian or Asian American, Middle Eastern or Northern African'\n",
      " 'Asian or Asian American, Hispanic, Latino, or Spanish origin, Native American or Alaska Native, White'\n",
      " 'Hispanic, Latino, or Spanish origin, Middle Eastern or Northern African'\n",
      " 'Hispanic, Latino, or Spanish origin, Native American or Alaska Native, White'\n",
      " 'Middle Eastern or Northern African, White, Another option not listed here or prefer not to answer'\n",
      " 'Hispanic, Latino, or Spanish origin, White, Another option not listed here or prefer not to answer'\n",
      " 'Asian or Asian American, Black or African American, Hispanic, Latino, or Spanish origin'\n",
      " 'Asian or Asian American, Black or African American, Native American or Alaska Native, White'\n",
      " 'Middle Eastern or Northern African, Native American or Alaska Native, White'\n",
      " 'Asian or Asian American, Middle Eastern or Northern African, White'\n",
      " 'Black or African American, Middle Eastern or Northern African'\n",
      " 'Hispanic, Latino, or Spanish origin, Native American or Alaska Native, Another option not listed here or prefer not to answer'\n",
      " 'Asian or Asian American, Native American or Alaska Native'\n",
      " 'Middle Eastern or Northern African, Native American or Alaska Native'\n",
      " 'Asian or Asian American, Hispanic, Latino, or Spanish origin, Another option not listed here or prefer not to answer'\n",
      " 'Asian or Asian American, Hispanic, Latino, or Spanish origin, White, Another option not listed here or prefer not to answer'\n",
      " 'Asian or Asian American, Black or African American, Hispanic, Latino, or Spanish origin, Middle Eastern or Northern African, Native American or Alaska Native, White, Another option not listed here or prefer not to answer'\n",
      " 'Black or African American, Native American or Alaska Native'\n",
      " 'Asian or Asian American, Black or African American, Hispanic, Latino, or Spanish origin, Native American or Alaska Native']\n"
     ]
    }
   ],
   "source": [
    "print(\"Unique values in q17 (Ethnicity):\", df['q17'].unique())"
   ]
  },
  {
   "cell_type": "code",
   "execution_count": 23,
   "id": "57a22f71",
   "metadata": {},
   "outputs": [
    {
     "name": "stdout",
     "output_type": "stream",
     "text": [
      "\n",
      "Summary statistics for q6 (normal notation):\n",
      "count       20793.00\n",
      "mean        18244.60\n",
      "std        833624.90\n",
      "min             0.00\n",
      "25%             0.00\n",
      "50%          2000.00\n",
      "75%         10000.00\n",
      "max     120000000.00\n",
      "Name: q6, dtype: float64\n"
     ]
    }
   ],
   "source": [
    "pd.set_option('display.float_format', '{:.2f}'.format)\n",
    "\n",
    "\n",
    "\n",
    "print(\"\\nSummary statistics for q6 (normal notation):\")\n",
    "print(df['q6'].describe())"
   ]
  },
  {
   "cell_type": "markdown",
   "id": "b0c4a431",
   "metadata": {},
   "source": [
    "# boxplot of q6"
   ]
  },
  {
   "cell_type": "code",
   "execution_count": 24,
   "id": "1064de6d",
   "metadata": {},
   "outputs": [
    {
     "data": {
      "image/png": "[encoded data removed]",
      "text/plain": [
       "<Figure size 1000x500 with 1 Axes>"
      ]
     },
     "metadata": {},
     "output_type": "display_data"
    }
   ],
   "source": [
    "plt.figure(figsize=(10,5))\n",
    "sns.boxplot(x=df['q6'])\n",
    "plt.title('Boxplot of Bonus')\n",
    "plt.show()\n"
   ]
  },
  {
   "cell_type": "code",
   "execution_count": 25,
   "id": "b5cd0fc3",
   "metadata": {},
   "outputs": [
    {
     "data": {
      "image/png": "[encoded data removed]",
      "text/plain": [
       "<Figure size 1000x500 with 1 Axes>"
      ]
     },
     "metadata": {},
     "output_type": "display_data"
    }
   ],
   "source": [
    "plt.figure(figsize=(10,5))\n",
    "sns.boxplot(x=np.log1p(df['q6']))\n",
    "plt.title('Log-Transformed Boxplot of Bonus')\n",
    "plt.show()\n"
   ]
  },
  {
   "cell_type": "markdown",
   "id": "7a848f6e-a0e2-43a2-90fa-76821daed60c",
   "metadata": {},
   "source": [
    "**Question:** How would you describe the \"state\" of this dataset? Be specific and detailed in your answer. (Think paragraphs rather than sentences).\n",
    "\n",
    "[Add you answer to this markdown cell]"
   ]
  },
  {
   "cell_type": "markdown",
   "id": "ad23430c",
   "metadata": {},
   "source": [
    "The dataset is in a highly unstructured and incomplete state, requiring extensive cleaning and preprocessing before it can be effectively analyzed or used for machine learning. The dataset consists of 28,108 entries across 18 columns, capturing various aspects of survey responses such as salary, industry, job title, location, and demographic details. However, several key issues significantly impact its usability.\n",
    "\n",
    "Missing Data: A major concern is the high percentage of missing values across multiple columns. q4 (Experience in Current Role) is 74% missing, q8 (Additional Comments/Benefits) is 99% missing, and q9 (Other Languages) is 89% missing, making these columns nearly unusable. Moreover, q6 (Bonus) has 26% missing values, while q11 (State/Region/Location) is missing in 17.9% of the records. The missing data in crucial numerical and categorical fields poses a significant challenge for reliable insights.\n",
    "\n",
    "\n",
    "Inconsistent Formatting: The dataset suffers from inconsistencies, especially in columns like q5 (Salary), which includes values with commas (e.g., \"55,000\"), requiring conversion to numeric format for proper calculations. Similarly, the q10 (Country) column contains various representations of the same country, such as \"US,\" \"USA,\" \"United States,\" \"U.S.,\" creating inconsistencies in regional analyses. \n",
    "\n",
    "\n",
    "Categorical Data Issues: Many categorical columns such as q2 (Industry), q3 (Job Title), q15 (Education), q16 (Gender), and q17 (Ethnicity) contain free-form text entries, multiple variations of the same category, and \"Other\" or \"Prefer not to answer\" responses. With more unique values in q2 (Industry) and  in q3 (Job Title), the dataset presents high cardinality issues that need to be addressed. Standardizing these categories by grouping similar entries will be crucial.\n",
    "\n",
    "\n",
    "Outliers and Extreme Values: The dataset contains extreme numerical outliers, particularly in the q5 (Salary) and q6 (Bonus) columns. Salary values range from $10 to $24,000,000, while bonus values go as high, which likely indicate data entry errors or unrealistic figures. These outliers could significantly distort statistical analyses and predictive modeling if left unhandled.\n",
    "\n",
    "\n",
    "Data Imbalance: Certain categorical variables exhibit imbalance. For example, q16 (Gender) has 21,389 entries for \"Woman\", 5,502 for \"Man\", and only 747 for \"Non-binary,\" which could introduce bias in analysis or modeling. Similarly, q17 (Ethnicity) shows a dominant representation of \"White\" respondents, while other racial/ethnic groups are underrepresented.\n",
    "\n",
    "\n",
    "Preservation of Data: Given the significant presence of missing values, outright deletion of rows would lead to substantial data loss. Instead, imputation techniques (such as replacing missing values with mode/median or segmenting missing data into new categories) will be used to retain as much information as possible while minimizing bias.\n",
    "\n",
    "\n",
    "In summary, the dataset is incomplete, inconsistent, and highly unstructured, requiring extensive cleaning and preprocessing. Key steps include handling missing values, standardizing categorical variables, addressing outliers, resolving inconsistencies, and preserving data wherever possible. The final objective is to transform this raw dataset into a well-structured and reliable source for meaningful insights."
   ]
  },
  {
   "cell_type": "markdown",
   "id": "320e3606-db07-41fa-a6b1-f31c3b6ffbde",
   "metadata": {},
   "source": [
    "#### The Plan"
   ]
  },
  {
   "cell_type": "markdown",
   "id": "6cdfa01e-9eb1-4dcd-a5c0-a42e4b3b53a9",
   "metadata": {},
   "source": [
    "Now, it is time to plan how you will clean up the dataset. You **are not** allowed to use any machine learning technique to clean the data. (No SMOTE! No machine learning! Or anything like that!)\n",
    "\n",
    "**Question:** Based on your EDA above, detail how you would clean up this dataset. \n",
    "Things to consider: (This is not an exhaustive list)\n",
    "- Are there columns that can't be effectively cleaned? If so, why?\n",
    "- Are there columns that genuinely won't have a data value?\n",
    "- Does it make sense to segment the dataset based on specific columns when determining how to handle the missing values?\n",
    "- Are outliers a factor in this dataset?\n",
    "\n",
    "Remember preserving as much of the data as possible is the goal. That means dropping rows with a missing value somewhere might not be the best idea.\n",
    "\n",
    "[Add you answer to this markdown cell]"
   ]
  },
  {
   "cell_type": "markdown",
   "id": "52cd61ca",
   "metadata": {},
   "source": [
    "To address the issues identified during exploratory data analysis (EDA), we will follow a structured cleaning approach:\n",
    "Handling Missing Values:\n",
    "\n",
    "\n",
    "Drop columns with excessive missing values (q4, q8, and q9) since they are over 70% missing and unlikely to contribute meaningful insights.\n",
    "Impute missing values for numerical columns such as q6 (Bonus) by filling in 0, assuming a missing entry implies no bonus.\n",
    "For categorical columns like q2 (Industry), q3 (Job Title), q11 (State), and  q12 (City) missing values will be filled with the mode (most frequent category).\n",
    "\n",
    "\n",
    "\n",
    "Standardizing Categorical Data:\n",
    "Country (q10): Standardizing country names by mapping multiple representations (e.g., \"USA,\" \"US,\" \"U.S.\" to \"United States\") and mapping the other countries names to common names similarly\n",
    "Gender (q16) and Ethnicity (q17): Ensuring consistency and creating \"Unknown\" categories for missing values and considering 'other' or 'prefer not to answer' as unknown.\n",
    "\n",
    "\n",
    "\n",
    "Cleaning Numerical Data:\n",
    "Salary (q5) and Bonus (q6): Converting salary values from string format to numeric, removing commas. Handle extreme outliers by capping values at the 95th percentile and 5 percentile to prevent distortion.\n",
    "Convert timestamp column (timestamp) to datetime format for proper time-based analysis.\n",
    "\n",
    "\n",
    "Handling Outliers:\n",
    "Using boxplots and log transformation to detect outliers in salary and bonus distributions.\n",
    "Applying capping to reduce the effect of extreme values by removing the outliers of 95th and 5th percentile as the limit cutoffs for top and bottom\n",
    "\n",
    "\n",
    "\n",
    "After completing the cleaning steps, i will perform validations to check for any remaining inconsistencies.\n",
    "Generate summary statistics and visualizations to ensure the dataset is structured and ready for further analysis.\n",
    "\n"
   ]
  },
  {
   "cell_type": "markdown",
   "id": "ca688475-573d-4cd7-b29a-fecf53ff6976",
   "metadata": {},
   "source": [
    "#### Implementation"
   ]
  },
  {
   "cell_type": "markdown",
   "id": "a286a2a7-a6b6-4f77-9e46-1f5e9602bb03",
   "metadata": {},
   "source": [
    "Based on the plan the you described above, go ahead and clean up the dataset.\n",
    "\n",
    "[Add as many code cell below here as needs]"
   ]
  },
  {
   "cell_type": "markdown",
   "id": "70d27d1a",
   "metadata": {},
   "source": [
    "# Convert salary column to numeric"
   ]
  },
  {
   "cell_type": "code",
   "execution_count": 32,
   "id": "4e539139-1ced-4772-95a0-60d58bb72f4a",
   "metadata": {},
   "outputs": [],
   "source": [
    "\n",
    "def clean_salary(value):\n",
    "    try:\n",
    "        return float(str(value).replace(',', '').strip())\n",
    "    except ValueError:\n",
    "        return np.nan\n",
    "\n",
    "df['q5'] = df['q5'].apply(clean_salary)\n"
   ]
  },
  {
   "cell_type": "markdown",
   "id": "38f7b00f",
   "metadata": {},
   "source": [
    "# Confirming numeric conversion"
   ]
  },
  {
   "cell_type": "code",
   "execution_count": 27,
   "id": "a0c89a64",
   "metadata": {},
   "outputs": [
    {
     "name": "stdout",
     "output_type": "stream",
     "text": [
      "\n",
      "Data type of q5 (Salary) after conversion: float64\n"
     ]
    },
    {
     "data": {
      "text/plain": [
       "0   55000.00\n",
       "1   54600.00\n",
       "2   34000.00\n",
       "3   62000.00\n",
       "4   60000.00\n",
       "Name: q5, dtype: float64"
      ]
     },
     "execution_count": 27,
     "metadata": {},
     "output_type": "execute_result"
    }
   ],
   "source": [
    "\n",
    "print(\"\\nData type of q5 (Salary) after conversion:\", df['q5'].dtype)\n",
    "\n",
    "df['q5'].head()"
   ]
  },
  {
   "cell_type": "markdown",
   "id": "0b99d544",
   "metadata": {},
   "source": [
    "# Convert timestamp to datetime"
   ]
  },
  {
   "cell_type": "code",
   "execution_count": 33,
   "id": "15c05f47",
   "metadata": {},
   "outputs": [],
   "source": [
    "\n",
    "df['timestamp'] = pd.to_datetime(df['timestamp'], errors='coerce')\n"
   ]
  },
  {
   "cell_type": "markdown",
   "id": "6d19a9fb",
   "metadata": {},
   "source": [
    "# Handling  missing columns"
   ]
  },
  {
   "cell_type": "code",
   "execution_count": 34,
   "id": "b648f88d",
   "metadata": {},
   "outputs": [
    {
     "name": "stdout",
     "output_type": "stream",
     "text": [
      "\n",
      "Dropped columns with >70% missing values: ['q4', 'q8', 'q9']\n"
     ]
    }
   ],
   "source": [
    "\n",
    "\n",
    "removed_cols = df.columns[df.isnull().mean() > 0.7]\n",
    "df = df.drop(columns=removed_cols)\n",
    "print(f\"\\nDropped columns with >70% missing values: {list(removed_cols)}\")\n"
   ]
  },
  {
   "cell_type": "markdown",
   "id": "ac8bdeaa",
   "metadata": {},
   "source": [
    "# Fill missing values"
   ]
  },
  {
   "cell_type": "code",
   "execution_count": 49,
   "id": "a6449a2d",
   "metadata": {},
   "outputs": [],
   "source": [
    "\n",
    "df['q6'].fillna(0, inplace=True)  # Assuming missing bonus is zero\n"
   ]
  },
  {
   "cell_type": "markdown",
   "id": "5bda0dc1",
   "metadata": {},
   "source": [
    "# Step 4: Standardizing country names in q10"
   ]
  },
  {
   "cell_type": "code",
   "execution_count": 54,
   "id": "93631603",
   "metadata": {},
   "outputs": [],
   "source": [
    "country_mapping = {\n",
    "    'US': 'United States', 'USA': 'United States', 'U.S.': 'United States', 'U.S.A.': 'United States',\n",
    "    'UK': 'United Kingdom', 'England': 'United Kingdom', 'Scotland': 'United Kingdom',\n",
    "    'canada': 'Canada', 'Canada ': 'Canada', 'Canda': 'Canada'\n",
    "}\n",
    "df['q10'] = df['q10'].replace(country_mapping)\n"
   ]
  },
  {
   "cell_type": "markdown",
   "id": "6f0123e2",
   "metadata": {},
   "source": [
    "# Fill categorical missing values with mode"
   ]
  },
  {
   "cell_type": "code",
   "execution_count": 53,
   "id": "7d162d71",
   "metadata": {},
   "outputs": [
    {
     "name": "stdout",
     "output_type": "stream",
     "text": [
      "Filled missing values in q2 with: Computing or Tech\n",
      "Filled missing values in q3 with: Software Engineer\n",
      "Filled missing values in q11 with: California\n",
      "Filled missing values in q12 with: Boston\n"
     ]
    }
   ],
   "source": [
    "\n",
    "for col in ['q2', 'q3', 'q11', 'q12']:\n",
    "    most_frequent = df[col].mode().iloc[0]\n",
    "    df[col].fillna(most_frequent, inplace=True)\n",
    "    print(f\"Filled missing values in {col} with: {most_frequent}\")\n"
   ]
  },
  {
   "cell_type": "markdown",
   "id": "b2dbd27a",
   "metadata": {},
   "source": [
    "# Standardizing gender  column"
   ]
  },
  {
   "cell_type": "code",
   "execution_count": 39,
   "id": "e6d68c76",
   "metadata": {},
   "outputs": [],
   "source": [
    "\n",
    "\n",
    "df['q16'] = df['q16'].replace({'Other or prefer not to answer': 'Unknown', 'Prefer not to answer': 'Unknown'})\n"
   ]
  },
  {
   "cell_type": "markdown",
   "id": "62efeaa8",
   "metadata": {},
   "source": [
    "# Fill missing values in education levael ,gender and ethnicity with \"Unknown\""
   ]
  },
  {
   "cell_type": "code",
   "execution_count": 38,
   "id": "62a84822",
   "metadata": {},
   "outputs": [],
   "source": [
    "df['q15'].fillna('Unknown', inplace=True)\n",
    "df['q16'].fillna('Unknown', inplace=True)\n",
    "df['q17'].fillna('Unknown', inplace=True)\n"
   ]
  },
  {
   "cell_type": "markdown",
   "id": "7512cb75",
   "metadata": {},
   "source": [
    "# Detecting and handling outliers in salary"
   ]
  },
  {
   "cell_type": "code",
   "execution_count": 40,
   "id": "6c7f7430",
   "metadata": {},
   "outputs": [
    {
     "data": {
      "image/png": "[encoded data removed]",
      "text/plain": [
       "<Figure size 1000x500 with 1 Axes>"
      ]
     },
     "metadata": {},
     "output_type": "display_data"
    }
   ],
   "source": [
    "\n",
    "plt.figure(figsize=(10,5))\n",
    "sns.boxplot(x=df['q5'])\n",
    "plt.title('Boxplot of Salary (Before Handling Outliers)')\n",
    "plt.show()\n",
    "\n",
    "\n"
   ]
  },
  {
   "cell_type": "markdown",
   "id": "1db69eb5",
   "metadata": {},
   "source": [
    "# Log transformation for better visualization"
   ]
  },
  {
   "cell_type": "code",
   "execution_count": 41,
   "id": "74cdcc1c",
   "metadata": {},
   "outputs": [
    {
     "data": {
      "image/png": "[encoded data removed]",
      "text/plain": [
       "<Figure size 1000x500 with 1 Axes>"
      ]
     },
     "metadata": {},
     "output_type": "display_data"
    }
   ],
   "source": [
    "\n",
    "plt.figure(figsize=(10,5))\n",
    "sns.boxplot(x=np.log1p(df['q5']))\n",
    "plt.title('Log-Transformed Boxplot of Salary')\n",
    "plt.show()\n",
    "\n"
   ]
  },
  {
   "cell_type": "markdown",
   "id": "66203937",
   "metadata": {},
   "source": [
    "# Capping extreme salary values using 5th and 95th percentiles"
   ]
  },
  {
   "cell_type": "code",
   "execution_count": 42,
   "id": "97d2a56a",
   "metadata": {},
   "outputs": [
    {
     "name": "stdout",
     "output_type": "stream",
     "text": [
      "\n",
      "Salary Capping: Values below 32000.0 and above 185000.0 will be capped.\n"
     ]
    }
   ],
   "source": [
    "\n",
    "q1_salary = df['q5'].quantile(0.05)\n",
    "q3_salary = df['q5'].quantile(0.95)\n",
    "print(f\"\\nSalary Capping: Values below {q1_salary} and above {q3_salary} will be capped.\")\n",
    "df['q5'] = np.clip(df['q5'], q1_salary, q3_salary)"
   ]
  },
  {
   "cell_type": "markdown",
   "id": "5559b580",
   "metadata": {},
   "source": [
    "# Detecting and handling outliers in bonus (q6)"
   ]
  },
  {
   "cell_type": "code",
   "execution_count": 44,
   "id": "b30c1db8",
   "metadata": {},
   "outputs": [
    {
     "data": {
      "image/png": "[encoded data removed]",
      "text/plain": [
       "<Figure size 1000x500 with 1 Axes>"
      ]
     },
     "metadata": {},
     "output_type": "display_data"
    }
   ],
   "source": [
    "\n",
    "plt.figure(figsize=(10,5))\n",
    "sns.boxplot(x=df['q6'])\n",
    "plt.title('Boxplot of Bonus (Before Handling Outliers)')\n",
    "plt.show()\n",
    "\n",
    "\n",
    "\n"
   ]
  },
  {
   "cell_type": "markdown",
   "id": "5cfb777f",
   "metadata": {},
   "source": [
    "# Log transformation for bonus visualization"
   ]
  },
  {
   "cell_type": "code",
   "execution_count": 45,
   "id": "a4c6597e",
   "metadata": {},
   "outputs": [
    {
     "data": {
      "image/png": "[encoded data removed]",
      "text/plain": [
       "<Figure size 1000x500 with 1 Axes>"
      ]
     },
     "metadata": {},
     "output_type": "display_data"
    }
   ],
   "source": [
    "\n",
    "plt.figure(figsize=(10,5))\n",
    "sns.boxplot(x=np.log1p(df['q6']))\n",
    "plt.title('Log-Transformed Boxplot of Bonus')\n",
    "plt.show()\n",
    "\n"
   ]
  },
  {
   "cell_type": "markdown",
   "id": "2ca1c080",
   "metadata": {},
   "source": [
    "# Capping extreme bonus values using 5th and 95th percentiles"
   ]
  },
  {
   "cell_type": "code",
   "execution_count": 46,
   "id": "b9cdf5ab",
   "metadata": {},
   "outputs": [
    {
     "name": "stdout",
     "output_type": "stream",
     "text": [
      "\n",
      "Bonus Capping: Values below 0.0 and above 50000.0 will be capped.\n"
     ]
    }
   ],
   "source": [
    "\n",
    "q1_bonus = df['q6'].quantile(0.05)\n",
    "q3_bonus = df['q6'].quantile(0.95)\n",
    "print(f\"\\nBonus Capping: Values below {q1_bonus} and above {q3_bonus} will be capped.\")\n",
    "df['q6'] = np.clip(df['q6'], q1_bonus, q3_bonus)"
   ]
  },
  {
   "cell_type": "code",
   "execution_count": 50,
   "id": "913f0b6f",
   "metadata": {},
   "outputs": [
    {
     "name": "stdout",
     "output_type": "stream",
     "text": [
      "<class 'pandas.core.frame.DataFrame'>\n",
      "RangeIndex: 28108 entries, 0 to 28107\n",
      "Data columns (total 15 columns):\n",
      " #   Column     Non-Null Count  Dtype         \n",
      "---  ------     --------------  -----         \n",
      " 0   timestamp  28108 non-null  datetime64[ns]\n",
      " 1   q1         28108 non-null  object        \n",
      " 2   q2         28108 non-null  object        \n",
      " 3   q3         28108 non-null  object        \n",
      " 4   q5         28108 non-null  float64       \n",
      " 5   q6         28108 non-null  float64       \n",
      " 6   q7         28108 non-null  object        \n",
      " 7   q10        28108 non-null  object        \n",
      " 8   q11        28108 non-null  object        \n",
      " 9   q12        28108 non-null  object        \n",
      " 10  q13        28108 non-null  object        \n",
      " 11  q14        28108 non-null  object        \n",
      " 12  q15        28108 non-null  object        \n",
      " 13  q16        28108 non-null  object        \n",
      " 14  q17        28108 non-null  object        \n",
      "dtypes: datetime64[ns](1), float64(2), object(12)\n",
      "memory usage: 3.2+ MB\n"
     ]
    }
   ],
   "source": [
    "df.info()"
   ]
  },
  {
   "cell_type": "code",
   "execution_count": 51,
   "id": "e12d28f5",
   "metadata": {},
   "outputs": [
    {
     "data": {
      "text/html": [
       "<div>\n",
       "<style scoped>\n",
       "    .dataframe tbody tr th:only-of-type {\n",
       "        vertical-align: middle;\n",
       "    }\n",
       "\n",
       "    .dataframe tbody tr th {\n",
       "        vertical-align: top;\n",
       "    }\n",
       "\n",
       "    .dataframe thead th {\n",
       "        text-align: right;\n",
       "    }\n",
       "</style>\n",
       "<table border=\"1\" class=\"dataframe\">\n",
       "  <thead>\n",
       "    <tr style=\"text-align: right;\">\n",
       "      <th></th>\n",
       "      <th>timestamp</th>\n",
       "      <th>q1</th>\n",
       "      <th>q2</th>\n",
       "      <th>q3</th>\n",
       "      <th>q5</th>\n",
       "      <th>q6</th>\n",
       "      <th>q7</th>\n",
       "      <th>q10</th>\n",
       "      <th>q11</th>\n",
       "      <th>q12</th>\n",
       "      <th>q13</th>\n",
       "      <th>q14</th>\n",
       "      <th>q15</th>\n",
       "      <th>q16</th>\n",
       "      <th>q17</th>\n",
       "    </tr>\n",
       "  </thead>\n",
       "  <tbody>\n",
       "    <tr>\n",
       "      <th>0</th>\n",
       "      <td>2021-04-27 11:02:10</td>\n",
       "      <td>25-34</td>\n",
       "      <td>Education (Higher Education)</td>\n",
       "      <td>Research and Instruction Librarian</td>\n",
       "      <td>55000.00</td>\n",
       "      <td>0.00</td>\n",
       "      <td>USD</td>\n",
       "      <td>United States</td>\n",
       "      <td>Massachusetts</td>\n",
       "      <td>Boston</td>\n",
       "      <td>5-7 years</td>\n",
       "      <td>5-7 years</td>\n",
       "      <td>Master's degree</td>\n",
       "      <td>Woman</td>\n",
       "      <td>White</td>\n",
       "    </tr>\n",
       "    <tr>\n",
       "      <th>1</th>\n",
       "      <td>2021-04-27 11:02:22</td>\n",
       "      <td>25-34</td>\n",
       "      <td>Computing or Tech</td>\n",
       "      <td>Change &amp; Internal Communications Manager</td>\n",
       "      <td>54600.00</td>\n",
       "      <td>4000.00</td>\n",
       "      <td>GBP</td>\n",
       "      <td>United Kingdom</td>\n",
       "      <td>California</td>\n",
       "      <td>Cambridge</td>\n",
       "      <td>8 - 10 years</td>\n",
       "      <td>5-7 years</td>\n",
       "      <td>College degree</td>\n",
       "      <td>Non-binary</td>\n",
       "      <td>White</td>\n",
       "    </tr>\n",
       "    <tr>\n",
       "      <th>2</th>\n",
       "      <td>2021-04-27 11:02:38</td>\n",
       "      <td>25-34</td>\n",
       "      <td>Accounting, Banking &amp; Finance</td>\n",
       "      <td>Marketing Specialist</td>\n",
       "      <td>34000.00</td>\n",
       "      <td>0.00</td>\n",
       "      <td>USD</td>\n",
       "      <td>United States</td>\n",
       "      <td>Tennessee</td>\n",
       "      <td>Chattanooga</td>\n",
       "      <td>2 - 4 years</td>\n",
       "      <td>2 - 4 years</td>\n",
       "      <td>College degree</td>\n",
       "      <td>Woman</td>\n",
       "      <td>White</td>\n",
       "    </tr>\n",
       "    <tr>\n",
       "      <th>3</th>\n",
       "      <td>2021-04-27 11:02:41</td>\n",
       "      <td>25-34</td>\n",
       "      <td>Nonprofits</td>\n",
       "      <td>Program Manager</td>\n",
       "      <td>62000.00</td>\n",
       "      <td>3000.00</td>\n",
       "      <td>USD</td>\n",
       "      <td>United States</td>\n",
       "      <td>Wisconsin</td>\n",
       "      <td>Milwaukee</td>\n",
       "      <td>8 - 10 years</td>\n",
       "      <td>5-7 years</td>\n",
       "      <td>College degree</td>\n",
       "      <td>Woman</td>\n",
       "      <td>White</td>\n",
       "    </tr>\n",
       "    <tr>\n",
       "      <th>4</th>\n",
       "      <td>2021-04-27 11:02:42</td>\n",
       "      <td>25-34</td>\n",
       "      <td>Accounting, Banking &amp; Finance</td>\n",
       "      <td>Accounting Manager</td>\n",
       "      <td>60000.00</td>\n",
       "      <td>7000.00</td>\n",
       "      <td>USD</td>\n",
       "      <td>United States</td>\n",
       "      <td>South Carolina</td>\n",
       "      <td>Greenville</td>\n",
       "      <td>8 - 10 years</td>\n",
       "      <td>5-7 years</td>\n",
       "      <td>College degree</td>\n",
       "      <td>Woman</td>\n",
       "      <td>White</td>\n",
       "    </tr>\n",
       "  </tbody>\n",
       "</table>\n",
       "</div>"
      ],
      "text/plain": [
       "            timestamp     q1                             q2  \\\n",
       "0 2021-04-27 11:02:10  25-34   Education (Higher Education)   \n",
       "1 2021-04-27 11:02:22  25-34              Computing or Tech   \n",
       "2 2021-04-27 11:02:38  25-34  Accounting, Banking & Finance   \n",
       "3 2021-04-27 11:02:41  25-34                     Nonprofits   \n",
       "4 2021-04-27 11:02:42  25-34  Accounting, Banking & Finance   \n",
       "\n",
       "                                         q3       q5      q6   q7  \\\n",
       "0        Research and Instruction Librarian 55000.00    0.00  USD   \n",
       "1  Change & Internal Communications Manager 54600.00 4000.00  GBP   \n",
       "2                      Marketing Specialist 34000.00    0.00  USD   \n",
       "3                           Program Manager 62000.00 3000.00  USD   \n",
       "4                        Accounting Manager 60000.00 7000.00  USD   \n",
       "\n",
       "              q10             q11          q12           q13          q14  \\\n",
       "0   United States   Massachusetts       Boston     5-7 years    5-7 years   \n",
       "1  United Kingdom      California    Cambridge  8 - 10 years    5-7 years   \n",
       "2   United States       Tennessee  Chattanooga   2 - 4 years  2 - 4 years   \n",
       "3   United States       Wisconsin    Milwaukee  8 - 10 years    5-7 years   \n",
       "4   United States  South Carolina   Greenville  8 - 10 years    5-7 years   \n",
       "\n",
       "               q15         q16    q17  \n",
       "0  Master's degree       Woman  White  \n",
       "1   College degree  Non-binary  White  \n",
       "2   College degree       Woman  White  \n",
       "3   College degree       Woman  White  \n",
       "4   College degree       Woman  White  "
      ]
     },
     "execution_count": 51,
     "metadata": {},
     "output_type": "execute_result"
    }
   ],
   "source": [
    "df.head()"
   ]
  },
  {
   "cell_type": "code",
   "execution_count": 52,
   "id": "5fdbd91c",
   "metadata": {},
   "outputs": [],
   "source": [
    "df.to_csv('cleaned_survey_data.csv', index=False)"
   ]
  },
  {
   "cell_type": "markdown",
   "id": "49774589-0d4f-4423-bfe5-7a4e04310b2c",
   "metadata": {},
   "source": [
    "#### Reflection\n",
    "Write a short reflection (400-500 words) answering the following: \n",
    "- What were the biggest issues you encountered in the messy dataset?\n",
    "- How did cleaning the dataset improve its usability for machine learning?\n",
    "- What would happen if we trained a model on the messy dataset vs. the cleaned one?\n",
    "- Do you feel you skewed or biased the dataset while cleaning it?\n",
    "\n",
    "[Add you answer to this markdown cell]"
   ]
  },
  {
   "cell_type": "markdown",
   "id": "594f60e0",
   "metadata": {},
   "source": [
    "What were the biggest issues you encountered in the messy dataset?\n",
    "\n",
    " The dataset presented multiple challenges, including a high percentage of missing values, inconsistencies in categorical data, extreme numerical outliers, and formatting issues. The most significant problem was the presence of missing data, with several columns containing more than 70% missing values (e.g., q8, q9). Additionally, numerical values such as salary (q5) were formatted as strings and contained unrealistic outliers, which had to be capped. Another major issue was categorical inconsistencies, where country names, industry labels, and job titles appeared in multiple formats, requiring standardization. Lastly, data imbalance in demographic fields posed challenges in maintaining representational fairness.\n"
   ]
  },
  {
   "cell_type": "markdown",
   "id": "c99a7c85",
   "metadata": {},
   "source": [
    "\n",
    "How did cleaning the dataset improve its usability for machine learning?\n",
    "\n",
    "\n",
    " Cleaning the dataset improved its usability for machine learning by ensuring that data was complete, consistent, and free from major distortions. Handling missing values through imputation prevented data loss, while standardizing categorical variables allowed for meaningful feature encoding. Outlier detection and handling ensured that extreme values are not present and they did not influence model training. Transforming salaries into a numeric format  made salary-related insights more reliable. These cleaning steps created a more structured dataset that is better suited for statistical modeling and machine learning applications."
   ]
  },
  {
   "cell_type": "markdown",
   "id": "d6215793",
   "metadata": {},
   "source": [
    "What would happen if we trained a model on the messy dataset vs. the cleaned one?\n",
    "\n",
    " Training a model on the messy dataset would lead to unreliable and skewed predictions due to missing values, inconsistent formatting, and extreme outliers. The presence of high cardinality categorical variables would cause the model to struggle with generalization. Additionally, outliers in salary and bonus distributions could cause models to overfit to extreme cases, resulting in poor predictive performance. In contrast, the cleaned dataset provides a well-structured and balanced training set, leading to better model performance, increased accuracy, and more meaningful insights."
   ]
  },
  {
   "cell_type": "markdown",
   "id": "0837ab9d",
   "metadata": {},
   "source": [
    "Do you feel you skewed or biased the dataset while cleaning it?\n",
    "\n",
    "While cleaning the dataset, there is always a risk of introducing bias, especially when imputing missing values or handling outliers. For example, filling missing values with the mean or median could introduce bias if the missing values are not randomly distributed. Similarly, capping outliers might remove important information if those outliers are legitimate data points. However, by carefully considering the context of the data and using appropriate techniques, we can minimise the risk of introducing bias. The goal was to preserve as much data as possible while ensuring that the dataset is clean and usable for analysis.\n"
   ]
  },
  {
   "cell_type": "markdown",
   "id": "c146cde6-43d7-4be6-ada4-abbdd8377e6a",
   "metadata": {},
   "source": [
    "## Deliverables\n",
    "Upload your Jupyter Notebook to your GitHub repo and then provide a link to that repo in Worlclass. "
   ]
  }
 ],
 "metadata": {
  "kernelspec": {
   "display_name": "base",
   "language": "python",
   "name": "python3"
  },
  "language_info": {
   "codemirror_mode": {
    "name": "ipython",
    "version": 3
   },
   "file_extension": ".py",
   "mimetype": "text/x-python",
   "name": "python",
   "nbconvert_exporter": "python",
   "pygments_lexer": "ipython3",
   "version": "3.12.3"
  }
 },
 "nbformat": 4,
 "nbformat_minor": 5
}
