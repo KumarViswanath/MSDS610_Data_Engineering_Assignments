{
 "cells": [
  {
   "cell_type": "code",
   "execution_count": 3,
   "metadata": {},
   "outputs": [],
   "source": [
    "import seaborn as sns\n",
    "import pandas as pd\n",
    "import numpy as np\n",
    "from sqlalchemy import create_engine"
   ]
  },
  {
   "cell_type": "code",
   "execution_count": 1,
   "metadata": {},
   "outputs": [],
   "source": [
    "host = r'127.0.0.1'\n",
    "db = r'MSDS610' \n",
    "user = r'postgres'\n",
    "pw = r'12345'\n",
    "port = r'5432' "
   ]
  },
  {
   "cell_type": "code",
   "execution_count": 4,
   "metadata": {},
   "outputs": [],
   "source": [
    "db_conn = create_engine(\"postgresql://{}:{}@{}:{}/{}\".format(user, pw, host, port, db))"
   ]
  },
  {
   "cell_type": "code",
   "execution_count": 4,
   "metadata": {},
   "outputs": [],
   "source": [
    "table_name = r'sleep_data'\n",
    "schema = r'raw' \n",
    "\n",
    "df = pd.read_sql_table(table_name, db_conn, schema)"
   ]
  },
  {
   "cell_type": "code",
   "execution_count": 5,
   "metadata": {},
   "outputs": [
    {
     "data": {
      "text/html": [
       "<div>\n",
       "<style scoped>\n",
       "    .dataframe tbody tr th:only-of-type {\n",
       "        vertical-align: middle;\n",
       "    }\n",
       "\n",
       "    .dataframe tbody tr th {\n",
       "        vertical-align: top;\n",
       "    }\n",
       "\n",
       "    .dataframe thead th {\n",
       "        text-align: right;\n",
       "    }\n",
       "</style>\n",
       "<table border=\"1\" class=\"dataframe\">\n",
       "  <thead>\n",
       "    <tr style=\"text-align: right;\">\n",
       "      <th></th>\n",
       "      <th>Person ID</th>\n",
       "      <th>Gender</th>\n",
       "      <th>Age</th>\n",
       "      <th>Occupation</th>\n",
       "      <th>Sleep Duration</th>\n",
       "      <th>Quality of Sleep</th>\n",
       "      <th>Physical Activity Level</th>\n",
       "      <th>Stress Level</th>\n",
       "      <th>BMI Category</th>\n",
       "      <th>Blood Pressure</th>\n",
       "      <th>Heart Rate</th>\n",
       "      <th>Daily Steps</th>\n",
       "      <th>Sleep Disorder</th>\n",
       "    </tr>\n",
       "  </thead>\n",
       "  <tbody>\n",
       "    <tr>\n",
       "      <th>0</th>\n",
       "      <td>1</td>\n",
       "      <td>Male</td>\n",
       "      <td>27</td>\n",
       "      <td>Software Engineer</td>\n",
       "      <td>6.1</td>\n",
       "      <td>6</td>\n",
       "      <td>42</td>\n",
       "      <td>6</td>\n",
       "      <td>Overweight</td>\n",
       "      <td>126/83</td>\n",
       "      <td>77</td>\n",
       "      <td>4200</td>\n",
       "      <td>No Sleep Disorder</td>\n",
       "    </tr>\n",
       "    <tr>\n",
       "      <th>1</th>\n",
       "      <td>2</td>\n",
       "      <td>Male</td>\n",
       "      <td>28</td>\n",
       "      <td>Doctor</td>\n",
       "      <td>6.2</td>\n",
       "      <td>6</td>\n",
       "      <td>60</td>\n",
       "      <td>8</td>\n",
       "      <td>Normal</td>\n",
       "      <td>125/80</td>\n",
       "      <td>75</td>\n",
       "      <td>10000</td>\n",
       "      <td>No Sleep Disorder</td>\n",
       "    </tr>\n",
       "    <tr>\n",
       "      <th>2</th>\n",
       "      <td>3</td>\n",
       "      <td>Male</td>\n",
       "      <td>28</td>\n",
       "      <td>Doctor</td>\n",
       "      <td>6.2</td>\n",
       "      <td>6</td>\n",
       "      <td>60</td>\n",
       "      <td>8</td>\n",
       "      <td>Normal</td>\n",
       "      <td>125/80</td>\n",
       "      <td>75</td>\n",
       "      <td>10000</td>\n",
       "      <td>No Sleep Disorder</td>\n",
       "    </tr>\n",
       "    <tr>\n",
       "      <th>3</th>\n",
       "      <td>4</td>\n",
       "      <td>Male</td>\n",
       "      <td>28</td>\n",
       "      <td>Sales Representative</td>\n",
       "      <td>5.9</td>\n",
       "      <td>4</td>\n",
       "      <td>30</td>\n",
       "      <td>8</td>\n",
       "      <td>Obese</td>\n",
       "      <td>140/90</td>\n",
       "      <td>85</td>\n",
       "      <td>3000</td>\n",
       "      <td>Sleep Apnea</td>\n",
       "    </tr>\n",
       "    <tr>\n",
       "      <th>4</th>\n",
       "      <td>5</td>\n",
       "      <td>Male</td>\n",
       "      <td>28</td>\n",
       "      <td>Sales Representative</td>\n",
       "      <td>5.9</td>\n",
       "      <td>4</td>\n",
       "      <td>30</td>\n",
       "      <td>8</td>\n",
       "      <td>Obese</td>\n",
       "      <td>140/90</td>\n",
       "      <td>85</td>\n",
       "      <td>3000</td>\n",
       "      <td>Sleep Apnea</td>\n",
       "    </tr>\n",
       "  </tbody>\n",
       "</table>\n",
       "</div>"
      ],
      "text/plain": [
       "   Person ID Gender  Age            Occupation  Sleep Duration  \\\n",
       "0          1   Male   27     Software Engineer             6.1   \n",
       "1          2   Male   28                Doctor             6.2   \n",
       "2          3   Male   28                Doctor             6.2   \n",
       "3          4   Male   28  Sales Representative             5.9   \n",
       "4          5   Male   28  Sales Representative             5.9   \n",
       "\n",
       "   Quality of Sleep  Physical Activity Level  Stress Level BMI Category  \\\n",
       "0                 6                       42             6   Overweight   \n",
       "1                 6                       60             8       Normal   \n",
       "2                 6                       60             8       Normal   \n",
       "3                 4                       30             8        Obese   \n",
       "4                 4                       30             8        Obese   \n",
       "\n",
       "  Blood Pressure  Heart Rate  Daily Steps     Sleep Disorder  \n",
       "0         126/83          77         4200  No Sleep Disorder  \n",
       "1         125/80          75        10000  No Sleep Disorder  \n",
       "2         125/80          75        10000  No Sleep Disorder  \n",
       "3         140/90          85         3000        Sleep Apnea  \n",
       "4         140/90          85         3000        Sleep Apnea  "
      ]
     },
     "execution_count": 5,
     "metadata": {},
     "output_type": "execute_result"
    }
   ],
   "source": [
    "df.head()"
   ]
  },
  {
   "cell_type": "markdown",
   "metadata": {},
   "source": [
    "# Data Cleaning & Transformation"
   ]
  },
  {
   "cell_type": "code",
   "execution_count": 21,
   "metadata": {},
   "outputs": [],
   "source": [
    "df['Sleep Disorder'].fillna('No Sleep Disorder',inplace=True)"
   ]
  },
  {
   "cell_type": "markdown",
   "metadata": {},
   "source": [
    "# checking null values "
   ]
  },
  {
   "cell_type": "code",
   "execution_count": 6,
   "metadata": {},
   "outputs": [
    {
     "data": {
      "text/plain": [
       "Person ID                  0.0\n",
       "Gender                     0.0\n",
       "Age                        0.0\n",
       "Occupation                 0.0\n",
       "Sleep Duration             0.0\n",
       "Quality of Sleep           0.0\n",
       "Physical Activity Level    0.0\n",
       "Stress Level               0.0\n",
       "BMI Category               0.0\n",
       "Blood Pressure             0.0\n",
       "Heart Rate                 0.0\n",
       "Daily Steps                0.0\n",
       "Sleep Disorder             0.0\n",
       "dtype: float64"
      ]
     },
     "execution_count": 6,
     "metadata": {},
     "output_type": "execute_result"
    }
   ],
   "source": [
    "(df.isna().sum()/len(df))*100"
   ]
  },
  {
   "cell_type": "code",
   "execution_count": 22,
   "metadata": {},
   "outputs": [],
   "source": [
    "numerical_columns = df.select_dtypes(include=['float64', 'int64']).columns\n",
    "non_numerical_columns = df.select_dtypes(include=['object', 'category']).columns"
   ]
  },
  {
   "cell_type": "code",
   "execution_count": 23,
   "metadata": {},
   "outputs": [],
   "source": [
    "for column in numerical_columns:\n",
    "    if df[column].isnull().any():\n",
    "        skewness = df[column].skew()\n",
    "        if skewness > 1 or skewness < -1:  # Highly skewed, use median\n",
    "            df[column].fillna(df[column].median(), inplace=True)\n",
    "        else:  # Symmetrical distribution, use mean\n",
    "            df[column].fillna(df[column].mean(), inplace=True)\n",
    "\n",
    "for column in non_numerical_columns:\n",
    "    if df[column].isnull().any():\n",
    "        df[column].fillna(df[column].mode()[0], inplace=True)"
   ]
  },
  {
   "cell_type": "markdown",
   "metadata": {},
   "source": [
    "For handling missing values I  considered the distribution of data in each column. For numerical columns, i checked the skewness to decide between mean and median imputation where if skewness exists I choose  median otherwise mode . For non-numerical columns, I am using mode imputation, which is appropriate for categorical data. "
   ]
  },
  {
   "cell_type": "markdown",
   "metadata": {},
   "source": [
    "# handelling duplicate rows"
   ]
  },
  {
   "cell_type": "code",
   "execution_count": 24,
   "metadata": {},
   "outputs": [
    {
     "name": "stdout",
     "output_type": "stream",
     "text": [
      "Number of duplicate rows: 0\n"
     ]
    }
   ],
   "source": [
    "duplicate_rows = df.duplicated().sum()\n",
    "print(\"Number of duplicate rows:\", duplicate_rows)\n",
    "df.drop_duplicates(inplace=True)"
   ]
  },
  {
   "cell_type": "markdown",
   "metadata": {},
   "source": [
    "For duplicate rows I am dropping them directly. "
   ]
  },
  {
   "cell_type": "code",
   "execution_count": 11,
   "metadata": {},
   "outputs": [],
   "source": [
    "df[['Systolic BP', 'Diastolic BP']] = df['Blood Pressure'].str.split('/', expand=True).astype(int)\n"
   ]
  },
  {
   "cell_type": "code",
   "execution_count": 16,
   "metadata": {},
   "outputs": [],
   "source": [
    "df = df.drop('Blood Pressure', axis=1)\n",
    "\n",
    "# df = df.drop('Person ID', axis=1)"
   ]
  },
  {
   "cell_type": "markdown",
   "metadata": {},
   "source": [
    "# Handelling outliers"
   ]
  },
  {
   "cell_type": "code",
   "execution_count": null,
   "metadata": {},
   "outputs": [
    {
     "data": {
      "image/png": "[encoded data removed]",
      "text/plain": [
       "<Figure size 1500x1000 with 10 Axes>"
      ]
     },
     "metadata": {},
     "output_type": "display_data"
    }
   ],
   "source": [
    "import matplotlib.pyplot as plt\n",
    "num_cols = len(numerical_columns)\n",
    "rows = 3  # Adjust as needed\n",
    "cols = (num_cols + rows - 1) // rows \n",
    "\n",
    "fig, axes = plt.subplots(rows, cols, figsize=(15, 10))  \n",
    "fig.suptitle('Box Plots of Numerical Features', fontsize=16)\n",
    "\n",
    "for i, col in enumerate(numerical_columns):\n",
    "    row_index = i // cols\n",
    "    col_index = i % cols\n",
    "    if rows > 1 and cols > 1: \n",
    "        ax = axes[row_index, col_index]\n",
    "    elif rows == 1 and cols > 1:\n",
    "        ax = axes[col_index]\n",
    "    elif rows > 1 and cols == 1:\n",
    "        ax = axes[row_index]\n",
    "    else:\n",
    "        ax = axes\n",
    "    sns.boxplot(y=df[col], ax=ax) \n",
    "    ax.set_title(col)\n",
    "    ax.set_ylabel('Value')\n",
    "\n",
    "\n",
    "for j in range(i + 1, rows * cols):\n",
    "    row_index = j // cols\n",
    "    col_index = j % cols\n",
    "    if rows > 1 and cols > 1:\n",
    "        fig.delaxes(axes[row_index, col_index])\n",
    "    elif rows == 1 and cols > 1:\n",
    "        fig.delaxes(axes[col_index])\n",
    "    elif rows > 1 and cols == 1:\n",
    "        fig.delaxes(axes[row_index])\n",
    "    else:\n",
    "        pass\n",
    "\n",
    "plt.tight_layout(rect=[0, 0.03, 1, 0.95]) \n",
    "plt.show()\n"
   ]
  },
  {
   "cell_type": "code",
   "execution_count": 18,
   "metadata": {},
   "outputs": [
    {
     "data": {
      "text/plain": [
       "Heart Rate\n",
       "68    94\n",
       "70    76\n",
       "72    69\n",
       "65    67\n",
       "75    36\n",
       "78     5\n",
       "85     3\n",
       "80     3\n",
       "84     2\n",
       "83     2\n",
       "73     2\n",
       "67     2\n",
       "74     2\n",
       "77     2\n",
       "81     2\n",
       "76     2\n",
       "69     2\n",
       "86     2\n",
       "82     1\n",
       "Name: count, dtype: int64"
      ]
     },
     "execution_count": 18,
     "metadata": {},
     "output_type": "execute_result"
    }
   ],
   "source": [
    "df['Heart Rate'].value_counts()"
   ]
  },
  {
   "cell_type": "markdown",
   "metadata": {},
   "source": [
    "# IQR method"
   ]
  },
  {
   "cell_type": "code",
   "execution_count": 27,
   "metadata": {},
   "outputs": [
    {
     "name": "stdout",
     "output_type": "stream",
     "text": [
      "Outliers removed from Physical Activity Level: 0\n",
      "Outliers removed from Sleep Duration: 0\n",
      "Outliers removed from Stress Level: 0\n"
     ]
    }
   ],
   "source": [
    "def remove_outliers_iqr(df, column):\n",
    "    Q1 = df[column].quantile(0.25)\n",
    "    Q3 = df[column].quantile(0.75)\n",
    "    IQR = Q3 - Q1\n",
    "    lower_bound = Q1 - 1.5 * IQR\n",
    "    upper_bound = Q3 + 1.5 * IQR\n",
    "    df_cleaned = df[(df[column] >= lower_bound) & (df[column] <= upper_bound)]\n",
    "    outliers = df[(df[column] < lower_bound) | (df[column] > upper_bound)]\n",
    "    return df_cleaned, outliers\n",
    "\n",
    "numerical_columns_to_check = ['Physical Activity Level', 'Sleep Duration', 'Stress Level']\n",
    "for column in numerical_columns_to_check:\n",
    "    df, outliers = remove_outliers_iqr(df, column)\n",
    "    print(f\"Outliers removed from {column}: {len(outliers)}\")"
   ]
  },
  {
   "cell_type": "markdown",
   "metadata": {},
   "source": [
    "i removed, using the Interquartile Range (IQR) method to identify outliers .i  have applied this method to specific numerical columns that are relevant for outlier detection in sleep health data. The function I used  returns both the cleaned dataframe and the outliers, which is useful for further analysis "
   ]
  },
  {
   "cell_type": "markdown",
   "metadata": {},
   "source": [
    "# Data Validation & Quality Checks\n"
   ]
  },
  {
   "cell_type": "code",
   "execution_count": null,
   "metadata": {},
   "outputs": [],
   "source": [
    "\n",
    "df_cleaned  = df.copy()"
   ]
  },
  {
   "cell_type": "code",
   "execution_count": null,
   "metadata": {},
   "outputs": [],
   "source": [
    "\n",
    "assert df_cleaned .isnull().sum().sum() == 0, \"There are still missing values.\"\n",
    "\n",
    "\n",
    "assert df_cleaned .duplicated().sum() == 0, \"There are still duplicate records.\"\n",
    "\n",
    "\n",
    "for col in numerical_columns_to_check:\n",
    "    Q1 = df_cleaned [col].quantile(0.25)\n",
    "    Q3 = df_cleaned [col].quantile(0.75)\n",
    "    IQR = Q3 - Q1\n",
    "    assert ((df_cleaned [col] >= Q1 - 1.5 * IQR) & (df_cleaned [col] <= Q3 + 1.5 * IQR)).all(), f\"There are still outliers in {col}.\"\n"
   ]
  },
  {
   "cell_type": "markdown",
   "metadata": {},
   "source": [
    "I have kept some validation checks Checking for missing values across the entire dataframe , the duplicate check ensures all duplicates have been removed and the outlier check using IQR is consistent with your removal method and verifies that outliers have been addressed in the specified columns.\n"
   ]
  },
  {
   "cell_type": "markdown",
   "metadata": {},
   "source": [
    "# Feature Preprocessing"
   ]
  },
  {
   "cell_type": "code",
   "execution_count": 28,
   "metadata": {},
   "outputs": [],
   "source": [
    "\n",
    "\n",
    "\n",
    "from sklearn.preprocessing import LabelEncoder\n",
    "\n",
    "\n",
    "for column in non_numerical_columns:\n",
    "    label_encoder = LabelEncoder()\n",
    "    df_cleaned [column] = label_encoder.fit_transform(df_cleaned [column])\n"
   ]
  },
  {
   "cell_type": "markdown",
   "metadata": {},
   "source": [
    "i am using label encode to convert the categorical columns to numerical columns"
   ]
  },
  {
   "cell_type": "code",
   "execution_count": 30,
   "metadata": {},
   "outputs": [
    {
     "name": "stdout",
     "output_type": "stream",
     "text": [
      "<class 'pandas.core.frame.DataFrame'>\n",
      "RangeIndex: 374 entries, 0 to 373\n",
      "Data columns (total 14 columns):\n",
      " #   Column                   Non-Null Count  Dtype  \n",
      "---  ------                   --------------  -----  \n",
      " 0   Person ID                374 non-null    int64  \n",
      " 1   Gender                   374 non-null    int32  \n",
      " 2   Age                      374 non-null    int64  \n",
      " 3   Occupation               374 non-null    int32  \n",
      " 4   Sleep Duration           374 non-null    float64\n",
      " 5   Quality of Sleep         374 non-null    int64  \n",
      " 6   Physical Activity Level  374 non-null    int64  \n",
      " 7   Stress Level             374 non-null    int64  \n",
      " 8   BMI Category             374 non-null    int32  \n",
      " 9   Heart Rate               374 non-null    int64  \n",
      " 10  Daily Steps              374 non-null    int64  \n",
      " 11  Sleep Disorder           374 non-null    int32  \n",
      " 12  Systolic BP              374 non-null    int32  \n",
      " 13  Diastolic BP             374 non-null    int32  \n",
      "dtypes: float64(1), int32(6), int64(7)\n",
      "memory usage: 32.3 KB\n"
     ]
    }
   ],
   "source": [
    "df_cleaned.info()"
   ]
  },
  {
   "cell_type": "markdown",
   "metadata": {},
   "source": [
    "# loading the data"
   ]
  },
  {
   "cell_type": "code",
   "execution_count": 31,
   "metadata": {},
   "outputs": [
    {
     "data": {
      "text/plain": [
       "374"
      ]
     },
     "execution_count": 31,
     "metadata": {},
     "output_type": "execute_result"
    }
   ],
   "source": [
    "table_name = r'sleep_data_cleaned'\n",
    "schema = r'cleaned' # schema we created this week.\n",
    "\n",
    "df_cleaned.to_sql(table_name, con=db_conn, if_exists='replace', index=False, schema=schema, chunksize=1000, method='multi')"
   ]
  },
  {
   "cell_type": "code",
   "execution_count": 7,
   "metadata": {},
   "outputs": [],
   "source": [
    "table_name = r'sleep_data_cleaned'\n",
    "schema = r'cleaned' # schema we created this week. \n",
    "\n",
    "df_cleaned = pd.read_sql_table(table_name, db_conn, schema)"
   ]
  },
  {
   "cell_type": "code",
   "execution_count": 8,
   "metadata": {},
   "outputs": [
    {
     "data": {
      "text/html": [
       "<div>\n",
       "<style scoped>\n",
       "    .dataframe tbody tr th:only-of-type {\n",
       "        vertical-align: middle;\n",
       "    }\n",
       "\n",
       "    .dataframe tbody tr th {\n",
       "        vertical-align: top;\n",
       "    }\n",
       "\n",
       "    .dataframe thead th {\n",
       "        text-align: right;\n",
       "    }\n",
       "</style>\n",
       "<table border=\"1\" class=\"dataframe\">\n",
       "  <thead>\n",
       "    <tr style=\"text-align: right;\">\n",
       "      <th></th>\n",
       "      <th>Person ID</th>\n",
       "      <th>Gender</th>\n",
       "      <th>Age</th>\n",
       "      <th>Occupation</th>\n",
       "      <th>Sleep Duration</th>\n",
       "      <th>Quality of Sleep</th>\n",
       "      <th>Physical Activity Level</th>\n",
       "      <th>Stress Level</th>\n",
       "      <th>BMI Category</th>\n",
       "      <th>Heart Rate</th>\n",
       "      <th>Daily Steps</th>\n",
       "      <th>Sleep Disorder</th>\n",
       "      <th>Systolic BP</th>\n",
       "      <th>Diastolic BP</th>\n",
       "    </tr>\n",
       "  </thead>\n",
       "  <tbody>\n",
       "    <tr>\n",
       "      <th>0</th>\n",
       "      <td>1</td>\n",
       "      <td>1</td>\n",
       "      <td>27</td>\n",
       "      <td>9</td>\n",
       "      <td>6.1</td>\n",
       "      <td>6</td>\n",
       "      <td>42</td>\n",
       "      <td>6</td>\n",
       "      <td>3</td>\n",
       "      <td>77</td>\n",
       "      <td>4200</td>\n",
       "      <td>1</td>\n",
       "      <td>126</td>\n",
       "      <td>83</td>\n",
       "    </tr>\n",
       "    <tr>\n",
       "      <th>1</th>\n",
       "      <td>2</td>\n",
       "      <td>1</td>\n",
       "      <td>28</td>\n",
       "      <td>1</td>\n",
       "      <td>6.2</td>\n",
       "      <td>6</td>\n",
       "      <td>60</td>\n",
       "      <td>8</td>\n",
       "      <td>0</td>\n",
       "      <td>75</td>\n",
       "      <td>10000</td>\n",
       "      <td>1</td>\n",
       "      <td>125</td>\n",
       "      <td>80</td>\n",
       "    </tr>\n",
       "    <tr>\n",
       "      <th>2</th>\n",
       "      <td>3</td>\n",
       "      <td>1</td>\n",
       "      <td>28</td>\n",
       "      <td>1</td>\n",
       "      <td>6.2</td>\n",
       "      <td>6</td>\n",
       "      <td>60</td>\n",
       "      <td>8</td>\n",
       "      <td>0</td>\n",
       "      <td>75</td>\n",
       "      <td>10000</td>\n",
       "      <td>1</td>\n",
       "      <td>125</td>\n",
       "      <td>80</td>\n",
       "    </tr>\n",
       "    <tr>\n",
       "      <th>3</th>\n",
       "      <td>4</td>\n",
       "      <td>1</td>\n",
       "      <td>28</td>\n",
       "      <td>6</td>\n",
       "      <td>5.9</td>\n",
       "      <td>4</td>\n",
       "      <td>30</td>\n",
       "      <td>8</td>\n",
       "      <td>2</td>\n",
       "      <td>85</td>\n",
       "      <td>3000</td>\n",
       "      <td>2</td>\n",
       "      <td>140</td>\n",
       "      <td>90</td>\n",
       "    </tr>\n",
       "    <tr>\n",
       "      <th>4</th>\n",
       "      <td>5</td>\n",
       "      <td>1</td>\n",
       "      <td>28</td>\n",
       "      <td>6</td>\n",
       "      <td>5.9</td>\n",
       "      <td>4</td>\n",
       "      <td>30</td>\n",
       "      <td>8</td>\n",
       "      <td>2</td>\n",
       "      <td>85</td>\n",
       "      <td>3000</td>\n",
       "      <td>2</td>\n",
       "      <td>140</td>\n",
       "      <td>90</td>\n",
       "    </tr>\n",
       "    <tr>\n",
       "      <th>...</th>\n",
       "      <td>...</td>\n",
       "      <td>...</td>\n",
       "      <td>...</td>\n",
       "      <td>...</td>\n",
       "      <td>...</td>\n",
       "      <td>...</td>\n",
       "      <td>...</td>\n",
       "      <td>...</td>\n",
       "      <td>...</td>\n",
       "      <td>...</td>\n",
       "      <td>...</td>\n",
       "      <td>...</td>\n",
       "      <td>...</td>\n",
       "      <td>...</td>\n",
       "    </tr>\n",
       "    <tr>\n",
       "      <th>369</th>\n",
       "      <td>370</td>\n",
       "      <td>0</td>\n",
       "      <td>59</td>\n",
       "      <td>5</td>\n",
       "      <td>8.1</td>\n",
       "      <td>9</td>\n",
       "      <td>75</td>\n",
       "      <td>3</td>\n",
       "      <td>3</td>\n",
       "      <td>68</td>\n",
       "      <td>7000</td>\n",
       "      <td>2</td>\n",
       "      <td>140</td>\n",
       "      <td>95</td>\n",
       "    </tr>\n",
       "    <tr>\n",
       "      <th>370</th>\n",
       "      <td>371</td>\n",
       "      <td>0</td>\n",
       "      <td>59</td>\n",
       "      <td>5</td>\n",
       "      <td>8.0</td>\n",
       "      <td>9</td>\n",
       "      <td>75</td>\n",
       "      <td>3</td>\n",
       "      <td>3</td>\n",
       "      <td>68</td>\n",
       "      <td>7000</td>\n",
       "      <td>2</td>\n",
       "      <td>140</td>\n",
       "      <td>95</td>\n",
       "    </tr>\n",
       "    <tr>\n",
       "      <th>371</th>\n",
       "      <td>372</td>\n",
       "      <td>0</td>\n",
       "      <td>59</td>\n",
       "      <td>5</td>\n",
       "      <td>8.1</td>\n",
       "      <td>9</td>\n",
       "      <td>75</td>\n",
       "      <td>3</td>\n",
       "      <td>3</td>\n",
       "      <td>68</td>\n",
       "      <td>7000</td>\n",
       "      <td>2</td>\n",
       "      <td>140</td>\n",
       "      <td>95</td>\n",
       "    </tr>\n",
       "    <tr>\n",
       "      <th>372</th>\n",
       "      <td>373</td>\n",
       "      <td>0</td>\n",
       "      <td>59</td>\n",
       "      <td>5</td>\n",
       "      <td>8.1</td>\n",
       "      <td>9</td>\n",
       "      <td>75</td>\n",
       "      <td>3</td>\n",
       "      <td>3</td>\n",
       "      <td>68</td>\n",
       "      <td>7000</td>\n",
       "      <td>2</td>\n",
       "      <td>140</td>\n",
       "      <td>95</td>\n",
       "    </tr>\n",
       "    <tr>\n",
       "      <th>373</th>\n",
       "      <td>374</td>\n",
       "      <td>0</td>\n",
       "      <td>59</td>\n",
       "      <td>5</td>\n",
       "      <td>8.1</td>\n",
       "      <td>9</td>\n",
       "      <td>75</td>\n",
       "      <td>3</td>\n",
       "      <td>3</td>\n",
       "      <td>68</td>\n",
       "      <td>7000</td>\n",
       "      <td>2</td>\n",
       "      <td>140</td>\n",
       "      <td>95</td>\n",
       "    </tr>\n",
       "  </tbody>\n",
       "</table>\n",
       "<p>374 rows × 14 columns</p>\n",
       "</div>"
      ],
      "text/plain": [
       "     Person ID  Gender  Age  Occupation  Sleep Duration  Quality of Sleep  \\\n",
       "0            1       1   27           9             6.1                 6   \n",
       "1            2       1   28           1             6.2                 6   \n",
       "2            3       1   28           1             6.2                 6   \n",
       "3            4       1   28           6             5.9                 4   \n",
       "4            5       1   28           6             5.9                 4   \n",
       "..         ...     ...  ...         ...             ...               ...   \n",
       "369        370       0   59           5             8.1                 9   \n",
       "370        371       0   59           5             8.0                 9   \n",
       "371        372       0   59           5             8.1                 9   \n",
       "372        373       0   59           5             8.1                 9   \n",
       "373        374       0   59           5             8.1                 9   \n",
       "\n",
       "     Physical Activity Level  Stress Level  BMI Category  Heart Rate  \\\n",
       "0                         42             6             3          77   \n",
       "1                         60             8             0          75   \n",
       "2                         60             8             0          75   \n",
       "3                         30             8             2          85   \n",
       "4                         30             8             2          85   \n",
       "..                       ...           ...           ...         ...   \n",
       "369                       75             3             3          68   \n",
       "370                       75             3             3          68   \n",
       "371                       75             3             3          68   \n",
       "372                       75             3             3          68   \n",
       "373                       75             3             3          68   \n",
       "\n",
       "     Daily Steps  Sleep Disorder  Systolic BP  Diastolic BP  \n",
       "0           4200               1          126            83  \n",
       "1          10000               1          125            80  \n",
       "2          10000               1          125            80  \n",
       "3           3000               2          140            90  \n",
       "4           3000               2          140            90  \n",
       "..           ...             ...          ...           ...  \n",
       "369         7000               2          140            95  \n",
       "370         7000               2          140            95  \n",
       "371         7000               2          140            95  \n",
       "372         7000               2          140            95  \n",
       "373         7000               2          140            95  \n",
       "\n",
       "[374 rows x 14 columns]"
      ]
     },
     "execution_count": 8,
     "metadata": {},
     "output_type": "execute_result"
    }
   ],
   "source": [
    "df_cleaned"
   ]
  },
  {
   "cell_type": "markdown",
   "metadata": {},
   "source": [
    "# star schema"
   ]
  },
  {
   "cell_type": "markdown",
   "metadata": {},
   "source": [
    "# Creating dim_person table "
   ]
  },
  {
   "cell_type": "code",
   "execution_count": 9,
   "metadata": {},
   "outputs": [
    {
     "data": {
      "text/plain": [
       "374"
      ]
     },
     "execution_count": 9,
     "metadata": {},
     "output_type": "execute_result"
    }
   ],
   "source": [
    "dim_person = df_cleaned[['Person ID', 'Gender', 'Age', 'Occupation', 'BMI Category']].drop_duplicates()\n",
    "dim_person = dim_person.rename(columns={'Person ID': 'person_id'})\n",
    "dim_person.to_sql('dim_person', db_conn, if_exists='replace', index=False, schema='cleaned')"
   ]
  },
  {
   "cell_type": "markdown",
   "metadata": {},
   "source": [
    "# Create dim_sleep_disorder table"
   ]
  },
  {
   "cell_type": "code",
   "execution_count": 10,
   "metadata": {},
   "outputs": [
    {
     "data": {
      "text/plain": [
       "3"
      ]
     },
     "execution_count": 10,
     "metadata": {},
     "output_type": "execute_result"
    }
   ],
   "source": [
    "dim_sleep_disorder = df_cleaned[['Sleep Disorder']].drop_duplicates()\n",
    "dim_sleep_disorder['sleep_disorder_id'] = range(1, len(dim_sleep_disorder) + 1)  # Add a unique ID\n",
    "dim_sleep_disorder = dim_sleep_disorder[['sleep_disorder_id', 'Sleep Disorder']]\n",
    "dim_sleep_disorder.to_sql('dim_sleep_disorder', db_conn, if_exists='replace', index=False, schema='cleaned')"
   ]
  },
  {
   "cell_type": "markdown",
   "metadata": {},
   "source": [
    "# creating fact_sleep_health the fact table"
   ]
  },
  {
   "cell_type": "code",
   "execution_count": 12,
   "metadata": {},
   "outputs": [
    {
     "data": {
      "text/plain": [
       "374"
      ]
     },
     "execution_count": 12,
     "metadata": {},
     "output_type": "execute_result"
    }
   ],
   "source": [
    "\n",
    "df_fact = df_cleaned.merge(dim_person, left_on='Person ID', right_on='person_id', how='left')\n",
    "df_fact = df_fact.merge(dim_sleep_disorder, left_on='Sleep Disorder', right_on='Sleep Disorder', how='left')\n",
    "\n",
    "\n",
    "fact_sleep_health = df_fact[[\n",
    "    'person_id', 'sleep_disorder_id',\n",
    "    'Sleep Duration', 'Quality of Sleep', 'Physical Activity Level', 'Stress Level',\n",
    "    'Heart Rate', 'Daily Steps', 'Systolic BP', 'Diastolic BP'\n",
    "]]\n",
    "\n",
    "\n",
    "fact_sleep_health = fact_sleep_health.rename(columns={\n",
    "    'Sleep Duration': 'sleep_duration',\n",
    "    'Quality of Sleep': 'quality_of_sleep',\n",
    "    'Physical Activity Level': 'physical_activity_level',\n",
    "    'Stress Level': 'stress_level',\n",
    "    'Heart Rate': 'heart_rate',\n",
    "    'Daily Steps': 'daily_steps',\n",
    "    'Systolic BP': 'systolic_bp',\n",
    "    'Diastolic BP': 'diastolic_bp'\n",
    "})\n",
    "\n",
    "\n",
    "fact_sleep_health['sleep_id'] = range(1, len(fact_sleep_health) + 1)\n",
    "\n",
    "\n",
    "fact_sleep_health = fact_sleep_health[[\n",
    "    'sleep_id', 'person_id', 'sleep_disorder_id',\n",
    "    'sleep_duration', 'quality_of_sleep', 'physical_activity_level', 'stress_level',\n",
    "    'heart_rate', 'daily_steps', 'systolic_bp', 'diastolic_bp'\n",
    "]]\n",
    "\n",
    "\n",
    "fact_sleep_health.to_sql('fact_sleep_health', db_conn, if_exists='replace', index=False, schema='cleaned')"
   ]
  },
  {
   "cell_type": "markdown",
   "metadata": {},
   "source": [
    "\n",
    "A star schema is a type of database schema commonly used in data warehousing and analytics.\n",
    "\n",
    "It is designed to make data retrieval and analysis efficient by organizing data into a central fact table and surrounding dimension tables.\n",
    "\n",
    "The fact table contains the measurable, quantitative data  while the dimension tables contain descriptive attributes.\n",
    "\n",
    "Structure:\n",
    "The fact table is the core of the star schema. It stores the numerical data that we want to analyze.\n",
    "\n",
    "The dimension tables provide context to the data in the fact table. For example:\n",
    "\n",
    "dim_person: Contains information about individuals .\n",
    "\n",
    "dim_sleep_disorder: Contains information about sleep disorders .\n",
    "\n",
    "Each dimension table is connected to the fact table through a foreign key.\n",
    "\n",
    "Key Features:\n",
    "Simplicity: The star schema is easy to understand and implement, even for non-technical users.\n",
    "\n",
    "Query Optimization: It is optimized for read-heavy operations like aggregations and joins, making it ideal for analytics."
   ]
  }
 ],
 "metadata": {
  "kernelspec": {
   "display_name": "base",
   "language": "python",
   "name": "python3"
  },
  "language_info": {
   "codemirror_mode": {
    "name": "ipython",
    "version": 3
   },
   "file_extension": ".py",
   "mimetype": "text/x-python",
   "name": "python",
   "nbconvert_exporter": "python",
   "pygments_lexer": "ipython3",
   "version": "3.12.3"
  }
 },
 "nbformat": 4,
 "nbformat_minor": 2
}
